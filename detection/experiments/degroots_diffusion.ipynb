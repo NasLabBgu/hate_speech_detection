{
 "cells": [
  {
   "cell_type": "code",
   "execution_count": 1,
   "id": "8fbf21e6-8d75-47cb-b001-2468b1b4406e",
   "metadata": {},
   "outputs": [],
   "source": [
    "import os\n",
    "os.chdir('/sise/home/tommarz/hate_speech_detection/')\n",
    "os.getcwd()\n",
    "import pickle\n",
    "import numpy as np\n",
    "import igraph as ig\n",
    "from sklearn.preprocessing import MinMaxScaler\n",
    "from sklearn.metrics import accuracy_score, precision_score, recall_score, f1_score, roc_auc_score\n",
    "import pandas as pd"
   ]
  },
  {
   "cell_type": "code",
   "execution_count": 2,
   "id": "14332e08-e4ee-40ac-a79d-ffdac2756562",
   "metadata": {},
   "outputs": [],
   "source": [
    "from detection.diffusion_method.degroots_diffusion import degroots_diffusion"
   ]
  },
  {
   "cell_type": "markdown",
   "id": "087b1e99-f98d-403d-ae35-7a7d3bf6a67d",
   "metadata": {
    "vscode": {
     "languageId": "raw"
    }
   },
   "source": [
    "# Choose Dataset"
   ]
  },
  {
   "cell_type": "code",
   "execution_count": 293,
   "id": "12d646c7-e017-4b1d-b1e5-5b6b41ffb0ea",
   "metadata": {},
   "outputs": [],
   "source": [
    "dataset = 'echo_2'\n",
    "seed = 0"
   ]
  },
  {
   "cell_type": "code",
   "execution_count": 294,
   "id": "aa4503d4-2ba6-4dd9-b2fe-dad959185f7a",
   "metadata": {},
   "outputs": [],
   "source": [
    "network_output_dir = \"/sise/home/tommarz/hate_speech_detection/data/networks_data\"\n",
    "raw_graphs_dict_path = os.path.join(network_output_dir, \"raw_graphs_dict.p\")\n",
    "network_dataset_output_dir = os.path.join(network_output_dir, dataset)\n",
    "raw_network_path  = os.path.join(network_dataset_output_dir, \"raw_network.p\")\n",
    "largest_cc_path  = os.path.join(network_dataset_output_dir, \"largest_cc.p\")"
   ]
  },
  {
   "cell_type": "markdown",
   "id": "a0f3af38-3c0f-4410-8e7e-9e54d16d8d2f",
   "metadata": {},
   "source": [
    "# Load Dataset (Graph)"
   ]
  },
  {
   "cell_type": "code",
   "execution_count": 295,
   "id": "ec03065c-325f-4ccc-a715-9b20624d3cb8",
   "metadata": {},
   "outputs": [
    {
     "data": {
      "text/plain": [
       "'IGRAPH DNW- 3746 20728 -- echo_2\\n+ attr: name (g), doc2vec (v), label (v), name (v), predictions (v), weight (e)'"
      ]
     },
     "execution_count": 295,
     "metadata": {},
     "output_type": "execute_result"
    }
   ],
   "source": [
    "with open(largest_cc_path, 'rb') as f:\n",
    "    largest_cc = pickle.load(f)\n",
    "largest_cc.summary()"
   ]
  },
  {
   "cell_type": "code",
   "execution_count": 296,
   "id": "346e69c8-c5b8-4dce-888b-1be4597eb47b",
   "metadata": {},
   "outputs": [],
   "source": [
    "g = largest_cc.copy()\n",
    "g.reverse_edges()"
   ]
  },
  {
   "cell_type": "code",
   "execution_count": 297,
   "id": "7023cd9e-acae-496f-a772-6e99467f288d",
   "metadata": {},
   "outputs": [],
   "source": [
    "del largest_cc"
   ]
  },
  {
   "cell_type": "code",
   "execution_count": 298,
   "id": "b4426722-8df8-48f4-9396-32684b7ce454",
   "metadata": {},
   "outputs": [
    {
     "data": {
      "text/plain": [
       "532"
      ]
     },
     "execution_count": 298,
     "metadata": {},
     "output_type": "execute_result"
    }
   ],
   "source": [
    "labeled_nodes = g.vs.select(lambda v: v['label'] != -1)\n",
    "len(labeled_nodes)"
   ]
  },
  {
   "cell_type": "code",
   "execution_count": 299,
   "id": "838fc3a8-e9f5-4585-abc3-0cdc3f643301",
   "metadata": {},
   "outputs": [
    {
     "data": {
      "text/plain": [
       "(532,)"
      ]
     },
     "execution_count": 299,
     "metadata": {},
     "output_type": "execute_result"
    }
   ],
   "source": [
    "y = np.array(labeled_nodes['label'])\n",
    "y.shape"
   ]
  },
  {
   "cell_type": "code",
   "execution_count": 300,
   "id": "c667c4d1-3d72-4e33-a69a-0b14f89f219f",
   "metadata": {},
   "outputs": [
    {
     "data": {
      "text/plain": [
       "'IGRAPH DNW- 3746 20728 -- echo_2\\n+ attr: name (g), doc2vec (v), label (v), name (v), predictions (v), weight (e)'"
      ]
     },
     "execution_count": 300,
     "metadata": {},
     "output_type": "execute_result"
    }
   ],
   "source": [
    "g.summary()"
   ]
  },
  {
   "cell_type": "code",
   "execution_count": 301,
   "id": "a3a65d58-fecb-4f5b-8108-3dbdc89b32d9",
   "metadata": {},
   "outputs": [
    {
     "data": {
      "text/plain": [
       "532"
      ]
     },
     "execution_count": 301,
     "metadata": {},
     "output_type": "execute_result"
    }
   ],
   "source": [
    "y_true = labeled_nodes['label']\n",
    "len(labeled_nodes)"
   ]
  },
  {
   "cell_type": "raw",
   "id": "b1aec223-e4f0-4491-8ddc-6fbbdaa22d20",
   "metadata": {},
   "source": [
    "np.random.seed(seed)\n",
    "hate_users = g.vs.select(lambda v: v['label']==1)\n",
    "frac = 0.1\n",
    "size = int(frac * len(hate_users))\n",
    "seed_hate_users = np.random.choice(hate_users.indices, size, replace=False)\n",
    "len(seed_hate_users)"
   ]
  },
  {
   "cell_type": "code",
   "execution_count": 302,
   "id": "43b89c67-471a-41cd-9d34-3dec6d571a6c",
   "metadata": {},
   "outputs": [
    {
     "data": {
      "text/plain": [
       "array([2357136044, 2546248239, 3071714933, 3626093760, 2588848963])"
      ]
     },
     "execution_count": 302,
     "metadata": {},
     "output_type": "execute_result"
    }
   ],
   "source": [
    "np.random.seed(seed)\n",
    "seeds = np.random.randint(0, 2**32-1, 5)\n",
    "seeds"
   ]
  },
  {
   "cell_type": "code",
   "execution_count": 303,
   "id": "562657c8-89c9-4be4-9359-42a03d935f2a",
   "metadata": {},
   "outputs": [],
   "source": [
    "def get_ego_subgraph(g, vertices, order_k = 1):\n",
    "    ego_network = g.neighborhood(vertices=vertices, order=order_k, mode='out')\n",
    "    set_of_tuples = set(tuple(inner_list) for inner_list in ego_network)\n",
    "    flattened_set = list({element for tupl in set_of_tuples for element in tupl})\n",
    "    ego_subgraph = g.subgraph(flattened_set)\n",
    "    return ego_subgraph"
   ]
  },
  {
   "cell_type": "raw",
   "id": "b1d72d6f-40f8-4db9-97b5-905cd494947e",
   "metadata": {},
   "source": [
    "h = get_ego_subgraph(g, labeled_nodes, 2)\n",
    "labeled_nodes = h.vs.select(lambda v: v['label'] != -1)\n",
    "h.summary()"
   ]
  },
  {
   "cell_type": "raw",
   "id": "740a91c2-af58-4cdc-80f8-c084bb29e6c5",
   "metadata": {},
   "source": [
    "def degroots_diffusion(h, seed_hate_users=None, frac=None, size=None, initial_belief = 0.5, iterations=10, random_state=None):\n",
    "    # hate_nodes_indices = seed_hate_users.indices\n",
    "    g = h.copy()\n",
    "    g.reverse_edges()\n",
    "    labeled_nodes = g.vs.select(lambda v: v['label']!=-1)\n",
    "    if seed_hate_users is None:\n",
    "        if size is None and frac is None:\n",
    "            raise ValueError(\"Please pass a list of seed hate users or size/frac to sample from\")\n",
    "        if size is None:\n",
    "            size = int(frac * len(labeled_nodes))\n",
    "        np.random.seed(random_state)\n",
    "        seed_hate_users = np.random.choice(labeled_nodes.indices, size, replace=False)\n",
    "    initial_beliefs = np.full(g.vcount(), initial_belief)   \n",
    "    initial_beliefs[seed_hate_users] = 1\n",
    "\n",
    "    # Get the adjacency matrix as a numpy array\n",
    "    A = np.array(g.get_adjacency(attribute='weight').data)\n",
    "    \n",
    "    # Normalize the adjacency matrix\n",
    "    row_sums = A.sum(axis=1, where=(A > 0))  # Sum only where there are non-zero entries\n",
    "    A_normalized = np.divide(A, row_sums[:, np.newaxis], out=np.zeros_like(A), where=row_sums[:, np.newaxis] != 0)\n",
    "    history = [initial_beliefs.copy()]\n",
    "    # Simulation of opinion dynamics\n",
    "    for _ in range(iterations):\n",
    "        beliefs = A_normalized.dot(history[-1])\n",
    "        history.append(beliefs.copy())\n",
    "    return history"
   ]
  },
  {
   "cell_type": "raw",
   "id": "150df571-4906-432a-ae31-4745f4c0be3a",
   "metadata": {},
   "source": [
    "def degroots_diffusion(g, seed_hate_users=None, frac=None, size=None, initial_belief = 0.5, iterations=2, random_state=None):\n",
    "    # hate_nodes_indices = seed_hate_users.indices\n",
    "    # g = h.copy()\n",
    "    # g.reverse_edges()\n",
    "    labeled_nodes = g.vs.select(lambda v: v['label']!=-1)\n",
    "    if seed_hate_users is None:\n",
    "        if size is None and frac is None:\n",
    "            raise ValueError(\"Please pass a list of seed hate users or size/frac to sample from\")\n",
    "        if size is None:\n",
    "            size = int(frac * len(labeled_nodes))\n",
    "        np.random.seed(random_state)\n",
    "        seed_hate_users = np.random.choice(labeled_nodes.indices, size, replace=False)\n",
    "    initial_beliefs = np.full(g.vcount(), initial_belief)   \n",
    "    initial_beliefs[seed_hate_users] = 1\n",
    "\n",
    "    # Get the adjacency matrix as a numpy array\n",
    "    A = g.get_adjacency_sparse(attribute='weight')\n",
    "    \n",
    "    # Normalize the adjacency matrix\n",
    "    row_sums = A.sum(axis=1, where=(A > 0))  # Sum only where there are non-zero entries\n",
    "    A_normalized = np.divide(A, row_sums[:, np.newaxis], out=np.zeros_like(A), where=row_sums[:, np.newaxis] != 0)\n",
    "    history = [initial_beliefs.copy()]\n",
    "    # Simulation of opinion dynamics\n",
    "    for _ in range(iterations):\n",
    "        beliefs = A_normalized.dot(history[-1])\n",
    "        history.append(beliefs.copy())\n",
    "    return history"
   ]
  },
  {
   "cell_type": "raw",
   "id": "c1b7533c-8ab1-4aa2-a2cd-c9859ede5766",
   "metadata": {},
   "source": [
    "A = np.array(g.get_adjacency(attribute='weight').data)"
   ]
  },
  {
   "cell_type": "raw",
   "id": "9af9d48e-33f7-4c19-a146-cb4f02490d3b",
   "metadata": {},
   "source": [
    "A.shape"
   ]
  },
  {
   "cell_type": "raw",
   "id": "214b4c4b-1b5f-49a5-9d6b-f41886bacdaa",
   "metadata": {},
   "source": [
    "# Normalize the adjacency matrix\n",
    "row_sums = A.sum(axis=1, where=(A > 0))  # Sum only where there are non-zero \n",
    "row_sums.shape"
   ]
  },
  {
   "cell_type": "raw",
   "id": "c5a9c690-d6fd-4e36-b9bd-980bf8d47aaf",
   "metadata": {},
   "source": [
    "A_normalized = np.divide(A, row_sums[:, np.newaxis], out=np.zeros_like(A), where=row_sums[:, np.newaxis] != 0)\n",
    "A_normalized.shape"
   ]
  },
  {
   "cell_type": "raw",
   "id": "87841648-e33d-4b16-b446-01f05127c541",
   "metadata": {},
   "source": [
    "A = np.array(g.get_adjacency(attribute='weight').data)"
   ]
  },
  {
   "cell_type": "raw",
   "id": "0e14957f-4949-4106-ae7f-b409734529f9",
   "metadata": {},
   "source": [
    "np.random.seed(seed)\n",
    "frac = 0.05\n",
    "initial_belief = 0\n",
    "size = int(frac * len(labeled_nodes))\n",
    "seed_hate_users = np.random.choice(labeled_nodes.indices, size, replace=False)\n",
    "initial_beliefs = np.full(g.vcount(), initial_belief)   \n",
    "initial_beliefs[seed_hate_users] = 1"
   ]
  },
  {
   "cell_type": "code",
   "execution_count": 304,
   "id": "3fa9f031-0727-4538-adaa-3e030df08ab5",
   "metadata": {},
   "outputs": [],
   "source": [
    "def degroot_update(adj_matrix, opinions, iterations=10):\n",
    "    n = len(opinions)\n",
    "    for _ in range(iterations):\n",
    "        # Calculate row sums\n",
    "        row_sums = np.array(adj_matrix.sum(axis=1)).flatten()\n",
    "        \n",
    "        # Avoid division by zero by replacing zero sums with 1\n",
    "        row_sums[row_sums == 0] = 1\n",
    "        \n",
    "        # Normalize each row to sum to 1\n",
    "        norm_adj_matrix = adj_matrix.multiply(1 / row_sums[:, np.newaxis])\n",
    "        \n",
    "        # Update opinions\n",
    "        opinions = norm_adj_matrix.dot(opinions)\n",
    "        \n",
    "    return opinions"
   ]
  },
  {
   "cell_type": "code",
   "execution_count": 305,
   "id": "59cf1d72-f04b-4f02-849f-02a497a70ed3",
   "metadata": {},
   "outputs": [],
   "source": [
    "def degroot_update_weighted(adj_matrix, opinions, alpha=0.5, iterations=10):\n",
    "    \"\"\"\n",
    "    Update opinions in DeGroot's model with a weighting factor.\n",
    "    \n",
    "    :param adj_matrix: Sparse adjacency matrix of the graph.\n",
    "    :param opinions: Initial array of opinions.\n",
    "    :param alpha: Weighting factor (0 <= alpha <= 1), where alpha closer to 1 gives\n",
    "                  more weight to the neighbors' opinions.\n",
    "    :param iterations: Number of iterations to run the model.\n",
    "    :return: Array of updated opinions.\n",
    "    \"\"\"\n",
    "    n = len(opinions)\n",
    "    for _ in range(iterations):\n",
    "        # Normalize adjacency matrix\n",
    "        row_sums = np.array(adj_matrix.sum(axis=1)).flatten()\n",
    "        row_sums[row_sums == 0] = 1  # Safe division\n",
    "        norm_adj_matrix = adj_matrix.multiply(1 / row_sums[:, np.newaxis])\n",
    "\n",
    "        # Update opinions with weighting\n",
    "        opinions = (1 - alpha) * opinions + alpha * norm_adj_matrix.dot(opinions)\n",
    "\n",
    "    return opinions"
   ]
  },
  {
   "cell_type": "code",
   "execution_count": 306,
   "id": "f96267d6-3d6d-471f-b208-da55690b5cf4",
   "metadata": {},
   "outputs": [],
   "source": [
    "from scipy.sparse import csr_matrix"
   ]
  },
  {
   "cell_type": "code",
   "execution_count": 307,
   "id": "8e558989-7b59-4271-82b5-b72c84b73e46",
   "metadata": {},
   "outputs": [
    {
     "data": {
      "text/plain": [
       "(3746, 3746)"
      ]
     },
     "execution_count": 307,
     "metadata": {},
     "output_type": "execute_result"
    }
   ],
   "source": [
    "A = g.get_adjacency_sparse(attribute='weight')\n",
    "A.shape"
   ]
  },
  {
   "cell_type": "code",
   "execution_count": 308,
   "id": "0d78d6bd-9610-4a9b-a943-6e16850a0c0a",
   "metadata": {},
   "outputs": [],
   "source": [
    "from sklearn.preprocessing import StandardScaler"
   ]
  },
  {
   "cell_type": "code",
   "execution_count": 326,
   "id": "e4f507ea-105a-42fc-b410-f01e230be596",
   "metadata": {},
   "outputs": [],
   "source": [
    "metrics = []\n",
    "frac = 0.05\n",
    "initial_belief = 0\n",
    "size = int(frac * len(labeled_nodes))\n",
    "iterations = 10\n",
    "alpha=1\n",
    "for seed in seeds:\n",
    "    np.random.seed(seed)\n",
    "    seed_hate_users = np.random.choice(labeled_nodes.indices, size, replace=False)\n",
    "    initial_beliefs = np.full(g.vcount(), initial_belief)   \n",
    "    initial_beliefs[seed_hate_users] = 1\n",
    "    opinions = degroot_update_weighted(A, initial_beliefs, alpha=alpha, iterations=iterations)\n",
    "    labeled_nodes_opinions = opinions[labeled_nodes.indices]\n",
    "    # scaler = StandardScaler()\n",
    "    # scaled_opinions = scaler.fit_transform(labeled_nodes_opinions.reshape(-1, 1)).flatten()\n",
    "    preds = labeled_nodes_opinions >= labeled_nodes_opinions.mean()\n",
    "    metrics.append([s(y_true, preds) for s in[accuracy_score, precision_score, recall_score,  f1_score, roc_auc_score]])"
   ]
  },
  {
   "cell_type": "raw",
   "id": "c8608e32-1172-4a94-b605-e7a938791f0b",
   "metadata": {},
   "source": [
    "%%time\n",
    "histories = []\n",
    "metrics = []\n",
    "for seed in seeds:\n",
    "    history = degroots_diffusion(g, frac=0.05, iterations=2, initial_belief=0.5, random_state=seed)\n",
    "    histories.append(history)\n",
    "    \n",
    "    labeled_nodes_opinions = history[-1][labeled_nodes.indices]\n",
    "    # labeled_nodes_initial_opinions = history[0][labeled_nodes.indices]\n",
    "    # labeled_nodes_opinions.mean(), labeled_nodes_initial_opinions.mean()\n",
    "\n",
    "    # roc_auc_score(y_true, labeled_nodes_opinions), roc_auc_score(y_true, labeled_nodes_initial_opinions)\n",
    "\n",
    "    scaler = MinMaxScaler()\n",
    "    scaled_opinions = scaler.fit_transform(labeled_nodes_opinions.reshape(-1, 1)).flatten()\n",
    "\n",
    "    preds = scaled_opinions >= 0.5\n",
    "    metrics.append([accuracy_score(y_true, preds), precision_score(y_true, preds),  recall_score(y_true, preds),  f1_score(y_true, preds), roc_auc_score(y_true, labeled_nodes_opinions)])"
   ]
  },
  {
   "cell_type": "raw",
   "id": "4d5aa641-0f7b-400b-a4e1-d1a0e840e206",
   "metadata": {},
   "source": [
    "labeled_nodes_opinions = opinions[labeled_nodes.indices]\n",
    "scaler = MinMaxScaler()\n",
    "scaled_opinions = scaler.fit_transform(labeled_nodes_opinions.reshape(-1, 1)).flatten()\n",
    "preds = scaled_opinions >= 0.5"
   ]
  },
  {
   "cell_type": "raw",
   "id": "5c971992-39ee-4594-b8c2-f7265feffedb",
   "metadata": {},
   "source": [
    "metrics = [s(y_true, preds) for s in[accuracy_score, precision_score, recall_score,  f1_score, roc_auc_score]]"
   ]
  },
  {
   "cell_type": "raw",
   "id": "f1a840ec-2d02-4e2c-b129-eca7d2a871a2",
   "metadata": {},
   "source": [
    "results_df = pd.DataFrame(metrics, columns=['acccuracy', 'precision', 'recall', 'f1', 'roc_auc'], index=seeds)\n",
    "results_df"
   ]
  },
  {
   "cell_type": "raw",
   "id": "08110160-3136-4bf9-ba85-076775b1d20f",
   "metadata": {},
   "source": [
    "df = pd.concat([results_df.mean(axis=0), results_df.std(axis=0)], axis=1, names=['mean', 'std'])\n",
    "df"
   ]
  },
  {
   "cell_type": "raw",
   "id": "208e0e63-b52b-419c-a610-c36c8124df21",
   "metadata": {},
   "source": [
    "metrics"
   ]
  },
  {
   "cell_type": "code",
   "execution_count": 327,
   "id": "352db394-ab44-4d2e-bd1e-dedf80a17a83",
   "metadata": {},
   "outputs": [
    {
     "data": {
      "text/html": [
       "<div>\n",
       "<style scoped>\n",
       "    .dataframe tbody tr th:only-of-type {\n",
       "        vertical-align: middle;\n",
       "    }\n",
       "\n",
       "    .dataframe tbody tr th {\n",
       "        vertical-align: top;\n",
       "    }\n",
       "\n",
       "    .dataframe thead th {\n",
       "        text-align: right;\n",
       "    }\n",
       "</style>\n",
       "<table border=\"1\" class=\"dataframe\">\n",
       "  <thead>\n",
       "    <tr style=\"text-align: right;\">\n",
       "      <th></th>\n",
       "      <th>acccuracy</th>\n",
       "      <th>precision</th>\n",
       "      <th>recall</th>\n",
       "      <th>f1</th>\n",
       "      <th>roc_auc</th>\n",
       "    </tr>\n",
       "  </thead>\n",
       "  <tbody>\n",
       "    <tr>\n",
       "      <th>2357136044</th>\n",
       "      <td>0.840226</td>\n",
       "      <td>0.770000</td>\n",
       "      <td>0.553957</td>\n",
       "      <td>0.644351</td>\n",
       "      <td>0.747716</td>\n",
       "    </tr>\n",
       "    <tr>\n",
       "      <th>2546248239</th>\n",
       "      <td>0.723684</td>\n",
       "      <td>0.100000</td>\n",
       "      <td>0.007194</td>\n",
       "      <td>0.013423</td>\n",
       "      <td>0.492147</td>\n",
       "    </tr>\n",
       "    <tr>\n",
       "      <th>3071714933</th>\n",
       "      <td>0.731203</td>\n",
       "      <td>0.000000</td>\n",
       "      <td>0.000000</td>\n",
       "      <td>0.000000</td>\n",
       "      <td>0.494911</td>\n",
       "    </tr>\n",
       "    <tr>\n",
       "      <th>3626093760</th>\n",
       "      <td>0.834586</td>\n",
       "      <td>0.800000</td>\n",
       "      <td>0.489209</td>\n",
       "      <td>0.607143</td>\n",
       "      <td>0.722976</td>\n",
       "    </tr>\n",
       "    <tr>\n",
       "      <th>2588848963</th>\n",
       "      <td>0.770677</td>\n",
       "      <td>0.688889</td>\n",
       "      <td>0.223022</td>\n",
       "      <td>0.336957</td>\n",
       "      <td>0.593699</td>\n",
       "    </tr>\n",
       "  </tbody>\n",
       "</table>\n",
       "</div>"
      ],
      "text/plain": [
       "            acccuracy  precision    recall        f1   roc_auc\n",
       "2357136044   0.840226   0.770000  0.553957  0.644351  0.747716\n",
       "2546248239   0.723684   0.100000  0.007194  0.013423  0.492147\n",
       "3071714933   0.731203   0.000000  0.000000  0.000000  0.494911\n",
       "3626093760   0.834586   0.800000  0.489209  0.607143  0.722976\n",
       "2588848963   0.770677   0.688889  0.223022  0.336957  0.593699"
      ]
     },
     "execution_count": 327,
     "metadata": {},
     "output_type": "execute_result"
    }
   ],
   "source": [
    "results_df = pd.DataFrame(metrics, columns=['acccuracy', 'precision', 'recall', 'f1', 'roc_auc'], index=seeds)\n",
    "results_df"
   ]
  },
  {
   "cell_type": "code",
   "execution_count": 328,
   "id": "78ea4251-a1e0-44aa-b3b5-8dc90009f52c",
   "metadata": {},
   "outputs": [
    {
     "data": {
      "text/html": [
       "<div>\n",
       "<style scoped>\n",
       "    .dataframe tbody tr th:only-of-type {\n",
       "        vertical-align: middle;\n",
       "    }\n",
       "\n",
       "    .dataframe tbody tr th {\n",
       "        vertical-align: top;\n",
       "    }\n",
       "\n",
       "    .dataframe thead th {\n",
       "        text-align: right;\n",
       "    }\n",
       "</style>\n",
       "<table border=\"1\" class=\"dataframe\">\n",
       "  <thead>\n",
       "    <tr style=\"text-align: right;\">\n",
       "      <th></th>\n",
       "      <th>0</th>\n",
       "      <th>1</th>\n",
       "    </tr>\n",
       "  </thead>\n",
       "  <tbody>\n",
       "    <tr>\n",
       "      <th>acccuracy</th>\n",
       "      <td>0.780075</td>\n",
       "      <td>0.055332</td>\n",
       "    </tr>\n",
       "    <tr>\n",
       "      <th>precision</th>\n",
       "      <td>0.471778</td>\n",
       "      <td>0.388779</td>\n",
       "    </tr>\n",
       "    <tr>\n",
       "      <th>recall</th>\n",
       "      <td>0.254676</td>\n",
       "      <td>0.260616</td>\n",
       "    </tr>\n",
       "    <tr>\n",
       "      <th>f1</th>\n",
       "      <td>0.320375</td>\n",
       "      <td>0.309972</td>\n",
       "    </tr>\n",
       "    <tr>\n",
       "      <th>roc_auc</th>\n",
       "      <td>0.610290</td>\n",
       "      <td>0.121583</td>\n",
       "    </tr>\n",
       "  </tbody>\n",
       "</table>\n",
       "</div>"
      ],
      "text/plain": [
       "                  0         1\n",
       "acccuracy  0.780075  0.055332\n",
       "precision  0.471778  0.388779\n",
       "recall     0.254676  0.260616\n",
       "f1         0.320375  0.309972\n",
       "roc_auc    0.610290  0.121583"
      ]
     },
     "execution_count": 328,
     "metadata": {},
     "output_type": "execute_result"
    }
   ],
   "source": [
    "df = pd.concat([results_df.mean(axis=0), results_df.std(axis=0)], axis=1, names=['mean', 'std'])\n",
    "df"
   ]
  },
  {
   "cell_type": "code",
   "execution_count": 329,
   "id": "2011c1be-4970-4bd1-b373-35c308d9a54d",
   "metadata": {},
   "outputs": [
    {
     "name": "stdout",
     "output_type": "stream",
     "text": [
      "& DeGroot's Diffusion & $0.780 \\pm 0.055$ & $0.472 \\pm 0.389$ & $0.255 \\pm 0.261$ & $0.320 \\pm 0.310$ & $0.610 \\pm 0.122$\\\\\n"
     ]
    }
   ],
   "source": [
    "s = \"& DeGroot's Diffusion\"\n",
    "for mean, std in df.values:\n",
    "    s += (f' & ${mean:.3f} \\pm {std:.3f}$')\n",
    "s+= '\\\\\\\\'\n",
    "print(s)"
   ]
  },
  {
   "cell_type": "raw",
   "id": "88487311-2829-4b48-ac19-e64dbddfc535",
   "metadata": {},
   "source": [
    "arr = np.abs(labeled_nodes_opinions - labeled_nodes_initial_opinions)\n",
    "k = 20\n",
    "top_k_indices = np.argsort(arr)[-k:][::-1]"
   ]
  },
  {
   "cell_type": "raw",
   "id": "036de7b4-dd1b-4a45-9c81-adc8ee3e48f8",
   "metadata": {},
   "source": [
    "# Step 5: Plot the results\n",
    "plt.figure(figsize=(20,8))\n",
    "history_ = np.array(history)[:, labeled_nodes.indices]\n",
    "for i in top_k_indices: #np.random.choice(labeled_nodes.indices, 50):\n",
    "    plt.plot(history_[:, i], label=f'Node {i}', color='r' if labeled_nodes[i]['label']==1 else 'b' if labeled_nodes[i]['label']==0 else 'g', linestyle='--')\n",
    "plt.xlabel('Iteration')\n",
    "plt.ylabel('Opinion')\n",
    "plt.title('Opinion Dynamics over Time')\n",
    "plt.xticks(range(len(history_)))\n",
    "# plt.legend()\n",
    "plt.show()"
   ]
  }
 ],
 "metadata": {
  "kernelspec": {
   "display_name": "gnn",
   "language": "python",
   "name": "gnn"
  },
  "language_info": {
   "codemirror_mode": {
    "name": "ipython",
    "version": 3
   },
   "file_extension": ".py",
   "mimetype": "text/x-python",
   "name": "python",
   "nbconvert_exporter": "python",
   "pygments_lexer": "ipython3",
   "version": "3.8.16"
  }
 },
 "nbformat": 4,
 "nbformat_minor": 5
}
