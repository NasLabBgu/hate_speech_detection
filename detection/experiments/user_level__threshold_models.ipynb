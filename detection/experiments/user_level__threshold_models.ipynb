{
 "cells": [
  {
   "cell_type": "code",
   "execution_count": 5,
   "metadata": {},
   "outputs": [
    {
     "data": {
      "text/plain": [
       "'/sise/home/tommarz/hate_speech_detection'"
      ]
     },
     "execution_count": 5,
     "metadata": {},
     "output_type": "execute_result"
    }
   ],
   "source": [
    "import pandas as pd\n",
    "import numpy as np\n",
    "import os, sys\n",
    "import warnings\n",
    "import random\n",
    "\n",
    "warnings.simplefilter(action='ignore', category=pd.errors.PerformanceWarning)\n",
    "warnings.simplefilter(action='ignore', category=FutureWarning)\n",
    "warnings.filterwarnings(\"ignore\")\n",
    "\n",
    "# f = os.path.dirname(__file__)\n",
    "sys.path.append(os.path.join(os.getcwd(), \"../..\"))\n",
    "from tqdm import tqdm\n",
    "import matplotlib.pyplot as plt\n",
    "import seaborn as sns\n",
    "from sklearn.metrics import f1_score, accuracy_score, recall_score, precision_score, auc, roc_curve, \\\n",
    "    balanced_accuracy_score, precision_recall_curve, confusion_matrix, roc_auc_score, RocCurveDisplay, PrecisionRecallDisplay\n",
    "from sklearn.model_selection import train_test_split, StratifiedKFold, cross_val_score\n",
    "from sklearn.preprocessing import MinMaxScaler, StandardScaler\n",
    "from sklearn.utils import compute_class_weight\n",
    "from sklearn.linear_model import LogisticRegression\n",
    "from detection.detection_utils.factory import create_dir_if_missing\n",
    "from config.detection_config import user_level_execution_config, user_level_conf, post_level_execution_config\n",
    "\n",
    "sns.set(rc={'figure.figsize': (10, 10)}, font_scale=1.4)\n",
    "from scipy.optimize import minimize\n",
    "from utils.my_timeit import timeit\n",
    "from utils.general import init_log\n",
    "\n",
    "import optuna\n",
    "optuna.logging.set_verbosity(optuna.logging.WARNING)\n",
    "sampler = optuna.samplers.TPESampler(seed=0, **optuna.samplers.TPESampler.hyperopt_parameters())\n",
    "\n",
    "logger = init_log(\"user_level_simple_models\")\n",
    "\n",
    "def expect_f1(y_true, y_prob, thres):\n",
    "    idxs = np.where(y_prob >= thres)[0]\n",
    "    tp = y_prob[idxs].sum()\n",
    "    fp = len(idxs) - tp\n",
    "    idxs = np.where(y_prob < thres)[0]\n",
    "    fn = y_prob[idxs].sum()\n",
    "    return 2*tp / (2*tp + fp + fn)\n",
    "\n",
    "def optimal_threshold(y_true, y_prob):\n",
    "    y_prob = np.sort(y_prob)[::-1]\n",
    "    f1s = [expect_f1(y_true, y_prob, p) for p in y_prob]\n",
    "    thres = y_prob[np.argmax(f1s)]\n",
    "    return thres #, f1s \n",
    "\n",
    "def get_hs_count(current_preds, threshold=0.5):\n",
    "    return len(current_preds[current_preds >= threshold])\n",
    "\n",
    "os.chdir('/sise/home/tommarz/hate_speech_detection/')\n",
    "os.getcwd()"
   ]
  },
  {
   "cell_type": "markdown",
   "metadata": {
    "tags": []
   },
   "source": [
    "# Fixed Threshold Method"
   ]
  },
  {
   "cell_type": "code",
   "execution_count": 2,
   "metadata": {},
   "outputs": [],
   "source": [
    "def fixed_threshold_method(X: pd.DataFrame, y: pd.Series, post_threshold=0.5, test_ratio=0.2, random_state=None, min_post_th=1, max_post_th=300):\n",
    "    \n",
    "    y_train, y_test = train_test_split(y, test_size=0.2, random_state=random_state, stratify=y)\n",
    "    X_train = X[X['user_id'].isin(y_train.index)]\n",
    "    X_test = X[X['user_id'].isin(y_test.index)]\n",
    "    print(f'Train Percent HS Users: {y_train.mean()}')\n",
    "    print(f'Test Percent HS Users: {y_test.mean()}')\n",
    "    \n",
    "    args = [post_threshold]\n",
    "    train_hs_count_df = X_train.groupby('user_id').predictions.agg(get_hs_count, *args)\n",
    "    min_num_of_posts_thresholds = range(max(min_post_th, train_hs_count_df.min()), min(max_post_th, train_hs_count_df.max())+1)\n",
    "    \n",
    "    train_preds = np.expand_dims(train_hs_count_df, axis=1) >= min_num_of_posts_thresholds\n",
    "    train_f1_scores = [f1_score(y_train, p) for p in train_preds.T]\n",
    "    best_f1_train, best_th = np.max(train_f1_scores), min_num_of_posts_thresholds[np.argmax(train_f1_scores)]\n",
    "    \n",
    "    test_hs_count_df = X_test.groupby('user_id').predictions.agg(get_hs_count, *args)\n",
    "    test_preds = test_hs_count_df >= best_th\n",
    "    train_preds = train_hs_count_df >= best_th\n",
    "    test_f1_score = f1_score(y_test, test_preds)\n",
    "    \n",
    "    return best_th, best_f1_train, test_f1_score"
   ]
  },
  {
   "cell_type": "code",
   "execution_count": 3,
   "metadata": {},
   "outputs": [
    {
     "ename": "NameError",
     "evalue": "name 'y_true' is not defined",
     "output_type": "error",
     "traceback": [
      "\u001B[0;31m---------------------------------------------------------------------------\u001B[0m",
      "\u001B[0;31mNameError\u001B[0m                                 Traceback (most recent call last)",
      "Cell \u001B[0;32mIn[3], line 1\u001B[0m\n\u001B[0;32m----> 1\u001B[0m post_threshold \u001B[38;5;241m=\u001B[39m optimal_threshold(\u001B[43my_true\u001B[49m, y_prob)\n\u001B[1;32m      2\u001B[0m fixed_threshold_method(X, y, post_threshold\u001B[38;5;241m=\u001B[39mpost_threshold, test_ratio\u001B[38;5;241m=\u001B[39m\u001B[38;5;241m0.2\u001B[39m)\n",
      "\u001B[0;31mNameError\u001B[0m: name 'y_true' is not defined"
     ]
    }
   ],
   "source": [
    "post_threshold = optimal_threshold(y_true, y_prob)\n",
    "fixed_threshold_method(X, y, post_threshold=post_threshold, test_ratio=0.2)"
   ]
  },
  {
   "cell_type": "markdown",
   "metadata": {
    "tags": []
   },
   "source": [
    "# Relational Threshold Method"
   ]
  },
  {
   "cell_type": "markdown",
   "metadata": {},
   "source": [
    "## Grid Search"
   ]
  },
  {
   "cell_type": "code",
   "execution_count": 297,
   "metadata": {},
   "outputs": [
    {
     "data": {
      "text/plain": [
       "(62, 3)"
      ]
     },
     "execution_count": 297,
     "metadata": {},
     "output_type": "execute_result"
    }
   ],
   "source": [
    "a = np.linspace(0, 1, 11)\n",
    "params = np.array(np.meshgrid(a, a, a)).T.reshape(-1,3)\n",
    "# params = np.column_stack((a,a,a))\n",
    "param_grid = params[params.sum(axis=1)==1]\n",
    "param_grid.shape"
   ]
  },
  {
   "cell_type": "code",
   "execution_count": 298,
   "metadata": {},
   "outputs": [],
   "source": [
    "test_ratio = 0.2\n",
    "random_state = 42\n",
    "min_mentions_threshold = 3\n",
    "min_retweets_threshold = 5"
   ]
  },
  {
   "cell_type": "code",
   "execution_count": 299,
   "metadata": {},
   "outputs": [],
   "source": [
    "network_dir = f\"hate_networks/outputs/{dataset.split('_')[0]}_networks/network_data/\"\n",
    "edges_dir = os.path.join(network_dir, \"edges\")\n",
    "mentions_df = pd.read_csv(os.path.join(edges_dir, \"data_users_mention_edges_df.tsv\"), sep='\\t')\n",
    "retweets_df = pd.read_csv(os.path.join(edges_dir, \"data_users_retweet_edges_df.tsv\"), sep='\\t')\n",
    "y_train, y_test = train_test_split(y, test_size=test_ratio, random_state=random_state, stratify=y)"
   ]
  },
  {
   "cell_type": "code",
   "execution_count": 300,
   "metadata": {},
   "outputs": [],
   "source": [
    "filtered_mentions_df = mentions_df.query('`weight`>=@min_mentions_threshold') #.drop(columns=['weight'])\n",
    "filtered_retweets_df = retweets_df.query('`weight`>=@min_retweets_threshold')"
   ]
  },
  {
   "cell_type": "code",
   "execution_count": 301,
   "metadata": {},
   "outputs": [
    {
     "data": {
      "text/html": [
       "<div>\n",
       "<style scoped>\n",
       "    .dataframe tbody tr th:only-of-type {\n",
       "        vertical-align: middle;\n",
       "    }\n",
       "\n",
       "    .dataframe tbody tr th {\n",
       "        vertical-align: top;\n",
       "    }\n",
       "\n",
       "    .dataframe thead th {\n",
       "        text-align: right;\n",
       "    }\n",
       "</style>\n",
       "<table border=\"1\" class=\"dataframe\">\n",
       "  <thead>\n",
       "    <tr style=\"text-align: right;\">\n",
       "      <th></th>\n",
       "      <th>source</th>\n",
       "      <th>dest</th>\n",
       "      <th>weight</th>\n",
       "      <th>mentioned_hs_count</th>\n",
       "      <th>mentioned_by_hs_count</th>\n",
       "      <th>mentioned_mean_preds</th>\n",
       "      <th>mentioned_by_mean_preds</th>\n",
       "      <th>weighted_mentioned_hs_count</th>\n",
       "      <th>weighted_mentioned_by_hs_count</th>\n",
       "      <th>weighted_mentioned_mean_preds</th>\n",
       "      <th>weighted_mentioned_by_mean_preds</th>\n",
       "    </tr>\n",
       "  </thead>\n",
       "  <tbody>\n",
       "    <tr>\n",
       "      <th>0</th>\n",
       "      <td>1175</td>\n",
       "      <td>4735</td>\n",
       "      <td>90</td>\n",
       "      <td>186.0</td>\n",
       "      <td>369</td>\n",
       "      <td>0.088122</td>\n",
       "      <td>0.065246</td>\n",
       "      <td>16740.0</td>\n",
       "      <td>33210</td>\n",
       "      <td>7.930986</td>\n",
       "      <td>5.872167</td>\n",
       "    </tr>\n",
       "    <tr>\n",
       "      <th>13</th>\n",
       "      <td>1175</td>\n",
       "      <td>1307</td>\n",
       "      <td>22</td>\n",
       "      <td>66.0</td>\n",
       "      <td>369</td>\n",
       "      <td>0.071304</td>\n",
       "      <td>0.065246</td>\n",
       "      <td>1452.0</td>\n",
       "      <td>8118</td>\n",
       "      <td>1.568694</td>\n",
       "      <td>1.435419</td>\n",
       "    </tr>\n",
       "    <tr>\n",
       "      <th>16</th>\n",
       "      <td>1175</td>\n",
       "      <td>1843</td>\n",
       "      <td>122</td>\n",
       "      <td>93.0</td>\n",
       "      <td>369</td>\n",
       "      <td>0.071964</td>\n",
       "      <td>0.065246</td>\n",
       "      <td>11346.0</td>\n",
       "      <td>45018</td>\n",
       "      <td>8.779577</td>\n",
       "      <td>7.960048</td>\n",
       "    </tr>\n",
       "    <tr>\n",
       "      <th>17</th>\n",
       "      <td>1175</td>\n",
       "      <td>979</td>\n",
       "      <td>15</td>\n",
       "      <td>57.0</td>\n",
       "      <td>369</td>\n",
       "      <td>0.067145</td>\n",
       "      <td>0.065246</td>\n",
       "      <td>855.0</td>\n",
       "      <td>5535</td>\n",
       "      <td>1.007178</td>\n",
       "      <td>0.978694</td>\n",
       "    </tr>\n",
       "    <tr>\n",
       "      <th>18</th>\n",
       "      <td>1175</td>\n",
       "      <td>1412</td>\n",
       "      <td>55</td>\n",
       "      <td>148.0</td>\n",
       "      <td>369</td>\n",
       "      <td>0.069431</td>\n",
       "      <td>0.065246</td>\n",
       "      <td>8140.0</td>\n",
       "      <td>20295</td>\n",
       "      <td>3.818683</td>\n",
       "      <td>3.588546</td>\n",
       "    </tr>\n",
       "    <tr>\n",
       "      <th>...</th>\n",
       "      <td>...</td>\n",
       "      <td>...</td>\n",
       "      <td>...</td>\n",
       "      <td>...</td>\n",
       "      <td>...</td>\n",
       "      <td>...</td>\n",
       "      <td>...</td>\n",
       "      <td>...</td>\n",
       "      <td>...</td>\n",
       "      <td>...</td>\n",
       "      <td>...</td>\n",
       "    </tr>\n",
       "    <tr>\n",
       "      <th>804262</th>\n",
       "      <td>170310</td>\n",
       "      <td>233064</td>\n",
       "      <td>7</td>\n",
       "      <td>25.0</td>\n",
       "      <td>20</td>\n",
       "      <td>0.057226</td>\n",
       "      <td>0.095744</td>\n",
       "      <td>175.0</td>\n",
       "      <td>140</td>\n",
       "      <td>0.400579</td>\n",
       "      <td>0.670210</td>\n",
       "    </tr>\n",
       "    <tr>\n",
       "      <th>804348</th>\n",
       "      <td>376715</td>\n",
       "      <td>363699</td>\n",
       "      <td>5</td>\n",
       "      <td>9.0</td>\n",
       "      <td>5</td>\n",
       "      <td>0.097053</td>\n",
       "      <td>0.155195</td>\n",
       "      <td>45.0</td>\n",
       "      <td>25</td>\n",
       "      <td>0.485266</td>\n",
       "      <td>0.775975</td>\n",
       "    </tr>\n",
       "    <tr>\n",
       "      <th>804880</th>\n",
       "      <td>381814</td>\n",
       "      <td>251</td>\n",
       "      <td>4</td>\n",
       "      <td>5.0</td>\n",
       "      <td>2</td>\n",
       "      <td>0.066947</td>\n",
       "      <td>0.081958</td>\n",
       "      <td>20.0</td>\n",
       "      <td>8</td>\n",
       "      <td>0.267786</td>\n",
       "      <td>0.327830</td>\n",
       "    </tr>\n",
       "    <tr>\n",
       "      <th>806037</th>\n",
       "      <td>131737</td>\n",
       "      <td>233064</td>\n",
       "      <td>4</td>\n",
       "      <td>25.0</td>\n",
       "      <td>13</td>\n",
       "      <td>0.057226</td>\n",
       "      <td>0.095538</td>\n",
       "      <td>100.0</td>\n",
       "      <td>52</td>\n",
       "      <td>0.228902</td>\n",
       "      <td>0.382150</td>\n",
       "    </tr>\n",
       "    <tr>\n",
       "      <th>806078</th>\n",
       "      <td>348780</td>\n",
       "      <td>311730</td>\n",
       "      <td>3</td>\n",
       "      <td>11.0</td>\n",
       "      <td>13</td>\n",
       "      <td>0.082138</td>\n",
       "      <td>0.108259</td>\n",
       "      <td>33.0</td>\n",
       "      <td>39</td>\n",
       "      <td>0.246413</td>\n",
       "      <td>0.324777</td>\n",
       "    </tr>\n",
       "  </tbody>\n",
       "</table>\n",
       "<p>13743 rows × 11 columns</p>\n",
       "</div>"
      ],
      "text/plain": [
       "        source    dest  weight  mentioned_hs_count  mentioned_by_hs_count  \\\n",
       "0         1175    4735      90               186.0                    369   \n",
       "13        1175    1307      22                66.0                    369   \n",
       "16        1175    1843     122                93.0                    369   \n",
       "17        1175     979      15                57.0                    369   \n",
       "18        1175    1412      55               148.0                    369   \n",
       "...        ...     ...     ...                 ...                    ...   \n",
       "804262  170310  233064       7                25.0                     20   \n",
       "804348  376715  363699       5                 9.0                      5   \n",
       "804880  381814     251       4                 5.0                      2   \n",
       "806037  131737  233064       4                25.0                     13   \n",
       "806078  348780  311730       3                11.0                     13   \n",
       "\n",
       "        mentioned_mean_preds  mentioned_by_mean_preds  \\\n",
       "0                   0.088122                 0.065246   \n",
       "13                  0.071304                 0.065246   \n",
       "16                  0.071964                 0.065246   \n",
       "17                  0.067145                 0.065246   \n",
       "18                  0.069431                 0.065246   \n",
       "...                      ...                      ...   \n",
       "804262              0.057226                 0.095744   \n",
       "804348              0.097053                 0.155195   \n",
       "804880              0.066947                 0.081958   \n",
       "806037              0.057226                 0.095538   \n",
       "806078              0.082138                 0.108259   \n",
       "\n",
       "        weighted_mentioned_hs_count  weighted_mentioned_by_hs_count  \\\n",
       "0                           16740.0                           33210   \n",
       "13                           1452.0                            8118   \n",
       "16                          11346.0                           45018   \n",
       "17                            855.0                            5535   \n",
       "18                           8140.0                           20295   \n",
       "...                             ...                             ...   \n",
       "804262                        175.0                             140   \n",
       "804348                         45.0                              25   \n",
       "804880                         20.0                               8   \n",
       "806037                        100.0                              52   \n",
       "806078                         33.0                              39   \n",
       "\n",
       "        weighted_mentioned_mean_preds  weighted_mentioned_by_mean_preds  \n",
       "0                            7.930986                          5.872167  \n",
       "13                           1.568694                          1.435419  \n",
       "16                           8.779577                          7.960048  \n",
       "17                           1.007178                          0.978694  \n",
       "18                           3.818683                          3.588546  \n",
       "...                               ...                               ...  \n",
       "804262                       0.400579                          0.670210  \n",
       "804348                       0.485266                          0.775975  \n",
       "804880                       0.267786                          0.327830  \n",
       "806037                       0.228902                          0.382150  \n",
       "806078                       0.246413                          0.324777  \n",
       "\n",
       "[13743 rows x 11 columns]"
      ]
     },
     "execution_count": 301,
     "metadata": {},
     "output_type": "execute_result"
    }
   ],
   "source": [
    "tmp = filtered_mentions_df.query('`source` in @y.index or `dest` in @y.index')\n",
    "tmp['mentioned_hs_count'] = tmp['dest'].map(user_hs_count)\n",
    "tmp['mentioned_by_hs_count'] = tmp['source'].map(user_hs_count)\n",
    "tmp['mentioned_mean_preds'] = tmp['dest'].map(user_mean_preds)\n",
    "tmp['mentioned_by_mean_preds'] = tmp['source'].map(user_mean_preds)\n",
    "tmp[['weighted_mentioned_hs_count', 'weighted_mentioned_by_hs_count', 'weighted_mentioned_mean_preds', 'weighted_mentioned_by_mean_preds']] = tmp[['mentioned_hs_count', 'mentioned_by_hs_count', 'mentioned_mean_preds', 'mentioned_by_mean_preds']].multiply(tmp[\"weight\"], axis=\"index\")\n",
    "tmp.fillna(0, inplace=True)\n",
    "tmp"
   ]
  },
  {
   "cell_type": "code",
   "execution_count": 302,
   "metadata": {},
   "outputs": [
    {
     "data": {
      "text/html": [
       "<div>\n",
       "<style scoped>\n",
       "    .dataframe tbody tr th:only-of-type {\n",
       "        vertical-align: middle;\n",
       "    }\n",
       "\n",
       "    .dataframe tbody tr th {\n",
       "        vertical-align: top;\n",
       "    }\n",
       "\n",
       "    .dataframe thead th {\n",
       "        text-align: right;\n",
       "    }\n",
       "</style>\n",
       "<table border=\"1\" class=\"dataframe\">\n",
       "  <thead>\n",
       "    <tr style=\"text-align: right;\">\n",
       "      <th></th>\n",
       "      <th>hs_count</th>\n",
       "      <th>mentioned_hs_count</th>\n",
       "      <th>mentioned_by_hs_count</th>\n",
       "      <th>mentioned_mean_preds</th>\n",
       "      <th>mentioned_by_mean_preds</th>\n",
       "      <th>weighted_mentioned_hs_count</th>\n",
       "      <th>weighted_mentioned_by_hs_count</th>\n",
       "      <th>weighted_mentioned_mean_preds</th>\n",
       "      <th>weighted_mentioned_by_mean_preds</th>\n",
       "    </tr>\n",
       "  </thead>\n",
       "  <tbody>\n",
       "    <tr>\n",
       "      <th>251</th>\n",
       "      <td>5</td>\n",
       "      <td>0.000000</td>\n",
       "      <td>0.0</td>\n",
       "      <td>0.000000</td>\n",
       "      <td>0.000000</td>\n",
       "      <td>0.000000</td>\n",
       "      <td>0.000000</td>\n",
       "      <td>0.000000</td>\n",
       "      <td>0.000000</td>\n",
       "    </tr>\n",
       "    <tr>\n",
       "      <th>501</th>\n",
       "      <td>4</td>\n",
       "      <td>416.833333</td>\n",
       "      <td>4.0</td>\n",
       "      <td>0.112079</td>\n",
       "      <td>0.064894</td>\n",
       "      <td>2337.500000</td>\n",
       "      <td>22.666667</td>\n",
       "      <td>0.582020</td>\n",
       "      <td>0.367732</td>\n",
       "    </tr>\n",
       "    <tr>\n",
       "      <th>766</th>\n",
       "      <td>2</td>\n",
       "      <td>325.666667</td>\n",
       "      <td>2.0</td>\n",
       "      <td>0.086634</td>\n",
       "      <td>0.052865</td>\n",
       "      <td>2154.750000</td>\n",
       "      <td>11.666667</td>\n",
       "      <td>0.486931</td>\n",
       "      <td>0.308377</td>\n",
       "    </tr>\n",
       "    <tr>\n",
       "      <th>773</th>\n",
       "      <td>28</td>\n",
       "      <td>83.785714</td>\n",
       "      <td>28.0</td>\n",
       "      <td>0.071930</td>\n",
       "      <td>0.079690</td>\n",
       "      <td>1789.928571</td>\n",
       "      <td>290.000000</td>\n",
       "      <td>0.763962</td>\n",
       "      <td>0.825356</td>\n",
       "    </tr>\n",
       "    <tr>\n",
       "      <th>838</th>\n",
       "      <td>6</td>\n",
       "      <td>0.000000</td>\n",
       "      <td>0.0</td>\n",
       "      <td>0.000000</td>\n",
       "      <td>0.000000</td>\n",
       "      <td>0.000000</td>\n",
       "      <td>0.000000</td>\n",
       "      <td>0.000000</td>\n",
       "      <td>0.000000</td>\n",
       "    </tr>\n",
       "    <tr>\n",
       "      <th>...</th>\n",
       "      <td>...</td>\n",
       "      <td>...</td>\n",
       "      <td>...</td>\n",
       "      <td>...</td>\n",
       "      <td>...</td>\n",
       "      <td>...</td>\n",
       "      <td>...</td>\n",
       "      <td>...</td>\n",
       "      <td>...</td>\n",
       "    </tr>\n",
       "    <tr>\n",
       "      <th>374034</th>\n",
       "      <td>7</td>\n",
       "      <td>0.000000</td>\n",
       "      <td>0.0</td>\n",
       "      <td>0.000000</td>\n",
       "      <td>0.000000</td>\n",
       "      <td>0.000000</td>\n",
       "      <td>0.000000</td>\n",
       "      <td>0.000000</td>\n",
       "      <td>0.000000</td>\n",
       "    </tr>\n",
       "    <tr>\n",
       "      <th>380071</th>\n",
       "      <td>6</td>\n",
       "      <td>0.000000</td>\n",
       "      <td>0.0</td>\n",
       "      <td>0.000000</td>\n",
       "      <td>0.000000</td>\n",
       "      <td>0.000000</td>\n",
       "      <td>0.000000</td>\n",
       "      <td>0.000000</td>\n",
       "      <td>0.000000</td>\n",
       "    </tr>\n",
       "    <tr>\n",
       "      <th>381309</th>\n",
       "      <td>9</td>\n",
       "      <td>0.000000</td>\n",
       "      <td>0.0</td>\n",
       "      <td>0.000000</td>\n",
       "      <td>0.000000</td>\n",
       "      <td>0.000000</td>\n",
       "      <td>0.000000</td>\n",
       "      <td>0.000000</td>\n",
       "      <td>0.000000</td>\n",
       "    </tr>\n",
       "    <tr>\n",
       "      <th>385490</th>\n",
       "      <td>6</td>\n",
       "      <td>0.000000</td>\n",
       "      <td>0.0</td>\n",
       "      <td>0.000000</td>\n",
       "      <td>0.000000</td>\n",
       "      <td>0.000000</td>\n",
       "      <td>0.000000</td>\n",
       "      <td>0.000000</td>\n",
       "      <td>0.000000</td>\n",
       "    </tr>\n",
       "    <tr>\n",
       "      <th>387436</th>\n",
       "      <td>10</td>\n",
       "      <td>0.000000</td>\n",
       "      <td>0.0</td>\n",
       "      <td>0.000000</td>\n",
       "      <td>0.000000</td>\n",
       "      <td>0.000000</td>\n",
       "      <td>0.000000</td>\n",
       "      <td>0.000000</td>\n",
       "      <td>0.000000</td>\n",
       "    </tr>\n",
       "  </tbody>\n",
       "</table>\n",
       "<p>1000 rows × 9 columns</p>\n",
       "</div>"
      ],
      "text/plain": [
       "        hs_count  mentioned_hs_count  mentioned_by_hs_count  \\\n",
       "251            5            0.000000                    0.0   \n",
       "501            4          416.833333                    4.0   \n",
       "766            2          325.666667                    2.0   \n",
       "773           28           83.785714                   28.0   \n",
       "838            6            0.000000                    0.0   \n",
       "...          ...                 ...                    ...   \n",
       "374034         7            0.000000                    0.0   \n",
       "380071         6            0.000000                    0.0   \n",
       "381309         9            0.000000                    0.0   \n",
       "385490         6            0.000000                    0.0   \n",
       "387436        10            0.000000                    0.0   \n",
       "\n",
       "        mentioned_mean_preds  mentioned_by_mean_preds  \\\n",
       "251                 0.000000                 0.000000   \n",
       "501                 0.112079                 0.064894   \n",
       "766                 0.086634                 0.052865   \n",
       "773                 0.071930                 0.079690   \n",
       "838                 0.000000                 0.000000   \n",
       "...                      ...                      ...   \n",
       "374034              0.000000                 0.000000   \n",
       "380071              0.000000                 0.000000   \n",
       "381309              0.000000                 0.000000   \n",
       "385490              0.000000                 0.000000   \n",
       "387436              0.000000                 0.000000   \n",
       "\n",
       "        weighted_mentioned_hs_count  weighted_mentioned_by_hs_count  \\\n",
       "251                        0.000000                        0.000000   \n",
       "501                     2337.500000                       22.666667   \n",
       "766                     2154.750000                       11.666667   \n",
       "773                     1789.928571                      290.000000   \n",
       "838                        0.000000                        0.000000   \n",
       "...                             ...                             ...   \n",
       "374034                     0.000000                        0.000000   \n",
       "380071                     0.000000                        0.000000   \n",
       "381309                     0.000000                        0.000000   \n",
       "385490                     0.000000                        0.000000   \n",
       "387436                     0.000000                        0.000000   \n",
       "\n",
       "        weighted_mentioned_mean_preds  weighted_mentioned_by_mean_preds  \n",
       "251                          0.000000                          0.000000  \n",
       "501                          0.582020                          0.367732  \n",
       "766                          0.486931                          0.308377  \n",
       "773                          0.763962                          0.825356  \n",
       "838                          0.000000                          0.000000  \n",
       "...                               ...                               ...  \n",
       "374034                       0.000000                          0.000000  \n",
       "380071                       0.000000                          0.000000  \n",
       "381309                       0.000000                          0.000000  \n",
       "385490                       0.000000                          0.000000  \n",
       "387436                       0.000000                          0.000000  \n",
       "\n",
       "[1000 rows x 9 columns]"
      ]
     },
     "execution_count": 302,
     "metadata": {},
     "output_type": "execute_result"
    }
   ],
   "source": [
    "features_df = pd.concat([user_hs_count.loc[y.index], tmp.query('`source` in @y.index').groupby('source').mean()], axis=1).fillna(0).drop(columns=['dest','weight'])\n",
    "features_df"
   ]
  },
  {
   "cell_type": "code",
   "execution_count": 303,
   "metadata": {},
   "outputs": [
    {
     "data": {
      "text/html": [
       "<div>\n",
       "<style scoped>\n",
       "    .dataframe tbody tr th:only-of-type {\n",
       "        vertical-align: middle;\n",
       "    }\n",
       "\n",
       "    .dataframe tbody tr th {\n",
       "        vertical-align: top;\n",
       "    }\n",
       "\n",
       "    .dataframe thead th {\n",
       "        text-align: right;\n",
       "    }\n",
       "</style>\n",
       "<table border=\"1\" class=\"dataframe\">\n",
       "  <thead>\n",
       "    <tr style=\"text-align: right;\">\n",
       "      <th></th>\n",
       "      <th>hs_count</th>\n",
       "      <th>mentioned_hs_count</th>\n",
       "      <th>mentioned_by_hs_count</th>\n",
       "    </tr>\n",
       "  </thead>\n",
       "  <tbody>\n",
       "    <tr>\n",
       "      <th>251</th>\n",
       "      <td>5</td>\n",
       "      <td>0.000000</td>\n",
       "      <td>0.0</td>\n",
       "    </tr>\n",
       "    <tr>\n",
       "      <th>501</th>\n",
       "      <td>4</td>\n",
       "      <td>416.833333</td>\n",
       "      <td>4.0</td>\n",
       "    </tr>\n",
       "    <tr>\n",
       "      <th>766</th>\n",
       "      <td>2</td>\n",
       "      <td>325.666667</td>\n",
       "      <td>2.0</td>\n",
       "    </tr>\n",
       "    <tr>\n",
       "      <th>773</th>\n",
       "      <td>28</td>\n",
       "      <td>83.785714</td>\n",
       "      <td>28.0</td>\n",
       "    </tr>\n",
       "    <tr>\n",
       "      <th>838</th>\n",
       "      <td>6</td>\n",
       "      <td>0.000000</td>\n",
       "      <td>0.0</td>\n",
       "    </tr>\n",
       "    <tr>\n",
       "      <th>...</th>\n",
       "      <td>...</td>\n",
       "      <td>...</td>\n",
       "      <td>...</td>\n",
       "    </tr>\n",
       "    <tr>\n",
       "      <th>374034</th>\n",
       "      <td>7</td>\n",
       "      <td>0.000000</td>\n",
       "      <td>0.0</td>\n",
       "    </tr>\n",
       "    <tr>\n",
       "      <th>380071</th>\n",
       "      <td>6</td>\n",
       "      <td>0.000000</td>\n",
       "      <td>0.0</td>\n",
       "    </tr>\n",
       "    <tr>\n",
       "      <th>381309</th>\n",
       "      <td>9</td>\n",
       "      <td>0.000000</td>\n",
       "      <td>0.0</td>\n",
       "    </tr>\n",
       "    <tr>\n",
       "      <th>385490</th>\n",
       "      <td>6</td>\n",
       "      <td>0.000000</td>\n",
       "      <td>0.0</td>\n",
       "    </tr>\n",
       "    <tr>\n",
       "      <th>387436</th>\n",
       "      <td>10</td>\n",
       "      <td>0.000000</td>\n",
       "      <td>0.0</td>\n",
       "    </tr>\n",
       "  </tbody>\n",
       "</table>\n",
       "<p>1000 rows × 3 columns</p>\n",
       "</div>"
      ],
      "text/plain": [
       "        hs_count  mentioned_hs_count  mentioned_by_hs_count\n",
       "251            5            0.000000                    0.0\n",
       "501            4          416.833333                    4.0\n",
       "766            2          325.666667                    2.0\n",
       "773           28           83.785714                   28.0\n",
       "838            6            0.000000                    0.0\n",
       "...          ...                 ...                    ...\n",
       "374034         7            0.000000                    0.0\n",
       "380071         6            0.000000                    0.0\n",
       "381309         9            0.000000                    0.0\n",
       "385490         6            0.000000                    0.0\n",
       "387436        10            0.000000                    0.0\n",
       "\n",
       "[1000 rows x 3 columns]"
      ]
     },
     "execution_count": 303,
     "metadata": {},
     "output_type": "execute_result"
    }
   ],
   "source": [
    "cols_to_use = ['hs_count', 'mentioned_hs_count', 'mentioned_by_hs_count']\n",
    "features_df[cols_to_use]"
   ]
  },
  {
   "cell_type": "code",
   "execution_count": 305,
   "metadata": {},
   "outputs": [
    {
     "data": {
      "text/plain": [
       "(1000, 62)"
      ]
     },
     "execution_count": 305,
     "metadata": {},
     "output_type": "execute_result"
    }
   ],
   "source": [
    "tom = np.dot(features_df[cols_to_use], param_grid.T)\n",
    "tom.shape"
   ]
  },
  {
   "cell_type": "code",
   "execution_count": 328,
   "metadata": {},
   "outputs": [],
   "source": [
    "thresholds = np.linspace(0, round(np.percentile(tom[:, 0], q=75))+1, 50)"
   ]
  },
  {
   "cell_type": "code",
   "execution_count": 339,
   "metadata": {},
   "outputs": [],
   "source": [
    "thresholds = np.geomspace(1, tom[:, 0].max(), 300)"
   ]
  },
  {
   "cell_type": "code",
   "execution_count": 340,
   "metadata": {},
   "outputs": [
    {
     "data": {
      "text/plain": [
       "(1000, 300)"
      ]
     },
     "execution_count": 340,
     "metadata": {},
     "output_type": "execute_result"
    }
   ],
   "source": [
    "preds = np.expand_dims(tom[:, 0], axis=-1) >= thresholds\n",
    "preds.shape"
   ]
  },
  {
   "cell_type": "code",
   "execution_count": 343,
   "metadata": {},
   "outputs": [
    {
     "data": {
      "text/plain": [
       "(300,)"
      ]
     },
     "execution_count": 343,
     "metadata": {},
     "output_type": "execute_result"
    }
   ],
   "source": [
    "kwargs = {'y_true': y}\n",
    "res = np.apply_along_axis(func1d=lambda y_pred, y_true: f1_score(y_true, y_pred), axis=0, arr=preds, **kwargs)\n",
    "res.shape"
   ]
  },
  {
   "cell_type": "raw",
   "metadata": {},
   "source": [
    "preds = np.expand_dims(tom, axis=-1) >= thresholds\n",
    "preds.shape"
   ]
  },
  {
   "cell_type": "code",
   "execution_count": 292,
   "metadata": {},
   "outputs": [],
   "source": [
    "f = np.vectorize(lambda y_pred, y_true: f1_score(y_true, y_pred), excluded=[1])"
   ]
  },
  {
   "cell_type": "code",
   "execution_count": 344,
   "metadata": {},
   "outputs": [],
   "source": [
    "idx = np.unravel_index(res.argmax(), res.shape)"
   ]
  },
  {
   "cell_type": "code",
   "execution_count": 349,
   "metadata": {},
   "outputs": [
    {
     "data": {
      "text/plain": [
       "35.32329420121453"
      ]
     },
     "execution_count": 349,
     "metadata": {},
     "output_type": "execute_result"
    }
   ],
   "source": [
    "thresholds[idx[0]]"
   ]
  },
  {
   "cell_type": "code",
   "execution_count": 350,
   "metadata": {},
   "outputs": [
    {
     "data": {
      "text/plain": [
       "0.3514644351464435"
      ]
     },
     "execution_count": 350,
     "metadata": {},
     "output_type": "execute_result"
    }
   ],
   "source": [
    "res[idx[0]]"
   ]
  },
  {
   "cell_type": "raw",
   "metadata": {},
   "source": [
    "best_params, best_th = param_grid[idx[0]], thresholds[idx[0]]\n",
    "best_params, best_th "
   ]
  },
  {
   "cell_type": "markdown",
   "metadata": {
    "tags": []
   },
   "source": [
    "## Optuna"
   ]
  },
  {
   "cell_type": "raw",
   "metadata": {
    "tags": []
   },
   "source": [
    "def relational_threshold_method(X: pd.DataFrame, y: pd.DataFrame, min_mention_threshold=5, test_ratio=0.2, post_threshold=0.5, random_state=None, num_thresholds=300):\n",
    "    \"\"\"\n",
    "    Here we consider the assumption that relation to followers/followees effect the users' behaviour.\n",
    "    For each user - get his average HS score, and the average HS scores of his followers and followees.\n",
    "    then search for the optimal relational threshold to yield the best f1-score.\n",
    "    This threshold will be combined from a self-TH + followers-TH + followees-TH.\n",
    "\n",
    "    :param X:\n",
    "    :param y:\n",
    "    :return:\n",
    "    \"\"\"\n",
    "\n",
    "    network_dir = f\"hate_networks/outputs/{dataset.split('_')[0]}_networks/network_data/\"\n",
    "    edges_dir = os.path.join(network_dir, \"edges\")\n",
    "    mentions_df = pd.read_csv(os.path.join(edges_dir, \"data_users_mention_edges_df.tsv\"), sep='\\t')\n",
    "    retweets_df = pd.read_csv(os.path.join(edges_dir, \"data_users_retweet_edges_df.tsv\"), sep='\\t')\n",
    "    \n",
    "    y_train, y_test = train_test_split(y, test_size=test_ratio, random_state=random_state, stratify=y)\n",
    "    filtered_mentions_df = mentions_df[mentions_df[\"weight\"] >= min_mention_threshold].reset_index(drop=True)\n",
    "\n",
    "    args = [post_threshold]\n",
    "    user_hs_count = X.query('`user_id` in @y.index').groupby('user_id').predictions.mean().rename('hs_count')\n",
    "    mentions_hs_count = X.query('`user_id` in @filtered_mentions_df.source').groupby('user_id').predictions.mean().rename('hs_count').reset_index()\n",
    "    mentioned_by_hs_count =  X.query('`user_id` in @filtered_mentions_df.dest').groupby('user_id').predictions.mean().rename('hs_count').reset_index()\n",
    "\n",
    "    filtered_mentions_hs_count_df = pd.merge(\n",
    "        pd.merge(filtered_mentions_df, mentions_hs_count, left_on='source', right_on='user_id', how='left'),\n",
    "        mentioned_by_hs_count, left_on='dest', right_on='user_id', how='left', suffixes=('_source', '_dest')\n",
    "    ).fillna(0).astype(int).drop(columns=['source', 'dest', 'weight'])\n",
    "\n",
    "    following_hs_df = filtered_mentions_hs_count_df.groupby('user_id_source').agg({'hs_count_dest': ['mean', 'count', 'median']})\n",
    "    following_hs_df.columns = [f'following_hs_{x[1]}' for x in following_hs_df.columns.to_flat_index()]\n",
    "    followers_hs_df = filtered_mentions_hs_count_df.groupby('user_id_dest').agg({'hs_count_source': ['mean', 'count', 'median']})\n",
    "    followers_hs_df.columns = [f'followers_hs_{x[1]}' for x in followers_hs_df.columns.to_flat_index()]\n",
    "\n",
    "    followees_mean_hs_count_df =  filtered_mentions_hs_count_df.groupby('user_id_source')['hs_count_dest'].mean().rename('following_mean_hs_count')\n",
    "    followers_mean_hs_count_df = filtered_mentions_hs_count_df.groupby('user_id_dest')['hs_count_source'].mean().rename('followers_mean_hs_count')\n",
    "\n",
    "    user_hs_count_followees_followers_mean_hs_count = pd.merge(\n",
    "        pd.merge(\n",
    "            user_hs_count.rename('hs_count'), following_hs_df, left_index=True, right_index=True, how='left'\n",
    "        ), followers_hs_df, left_index=True, right_index=True, how='left'\n",
    "    ).fillna(0)\n",
    "\n",
    "    cols = ['hs_count', 'following_hs_mean', 'followers_hs_mean']\n",
    "    X_train = user_hs_count_followees_followers_mean_hs_count.loc[y_train.index, cols]\n",
    "    X_test = user_hs_count_followees_followers_mean_hs_count.loc[y_test.index, cols]\n",
    "\n",
    "    def get_relational_model_preds(X, y, self_weight, followers_weight, following_weight, thresholds=None):\n",
    "        hs_score = np.dot(X, [self_weight, followers_weight, following_weight])\n",
    "        if thresholds is None:\n",
    "            thresholds = np.geomspace(1, hs_score.max(), num_thresholds)\n",
    "            preds = np.expand_dims(hs_score, -1) >= thresholds\n",
    "            kwargs = {'y_true': y}\n",
    "            f1_scores = np.apply_along_axis(func1d=lambda y_pred, y_true: f1_score(y_true, y_pred), axis=0, arr=preds, **kwargs)\n",
    "            idx = np.unravel_index(f1_scores.argmax(), f1_scores.shape)\n",
    "            best_th = thresholds[idx]\n",
    "            best_f1_score = f1_scores[idx]\n",
    "            return best_th, best_f1_score\n",
    "        else:\n",
    "            preds = hs_score >= thresholds\n",
    "            return thresholds, f1_score(y, preds)\n",
    "        \n",
    "\n",
    "\n",
    "    def objective(trial, X, y):\n",
    "        self_weight = trial.suggest_float('self_weight', 0, 1)\n",
    "        followers_weight = trial.suggest_float('followers_weight', 0, 1)\n",
    "        following_weight = trial.suggest_float('following_weight', 0, 1)\n",
    "        best_threshold, best_f1 = get_relational_model_preds(X, y, self_weight, followers_weight, following_weight)\n",
    "        trial.set_user_attr(\"threshold\", best_threshold)\n",
    "        return best_f1\n",
    "    \n",
    "    study = optuna.create_study(direction=\"maximize\", sampler=sampler)  # Create a new study.\n",
    "    study.optimize(lambda trial: objective(trial, X_train, y_train), n_trials=1000, show_progress_bar=True)\n",
    "    best_threshold = study.best_trial.user_attrs['threshold']  \n",
    "    test_f1 = get_relational_model_preds(X_test, y_test, thresholds=best_threshold, **study.best_params)\n",
    "    best_f1 = study.best_value\n",
    "    print(study.best_params)\n",
    "    print(best_f1, test_f1)"
   ]
  },
  {
   "cell_type": "raw",
   "metadata": {},
   "source": [
    "post_threshold = optimal_threshold(y_true, y_prob)\n",
    "relational_threshold_method(user2pred, y, post_threshold=0.5, min_mention_threshold=9, num_thresholds=100)"
   ]
  },
  {
   "cell_type": "code",
   "execution_count": 396,
   "metadata": {
    "tags": []
   },
   "outputs": [],
   "source": [
    "def relational_threshold_method(X: pd.DataFrame, y: pd.DataFrame, min_mention_threshold=5, test_ratio=0.2, post_threshold=0.5, random_state=None, min_th=1, max_th=300, n_trials=1000):\n",
    "    \"\"\"\n",
    "    Here we consider the assumption that relation to followers/followees effect the users' behaviour.\n",
    "    For each user - get his average HS score, and the average HS scores of his followers and followees.\n",
    "    then search for the optimal relational threshold to yield the best f1-score.\n",
    "    This threshold will be combined from a self-TH + followers-TH + followees-TH.\n",
    "\n",
    "    :param X:\n",
    "    :param y:\n",
    "    :return:\n",
    "    \"\"\"\n",
    "\n",
    "    network_dir = f\"hate_networks/outputs/{dataset.split('_')[0]}_networks/network_data/\"\n",
    "    edges_dir = os.path.join(network_dir, \"edges\")\n",
    "    mentions_df = pd.read_csv(os.path.join(edges_dir, \"data_users_mention_edges_df.tsv\"), sep='\\t')\n",
    "    retweets_df = pd.read_csv(os.path.join(edges_dir, \"data_users_retweet_edges_df.tsv\"), sep='\\t')\n",
    "    \n",
    "    y_train, y_test = train_test_split(y, test_size=test_ratio, random_state=random_state, stratify=y)\n",
    "    filtered_mentions_df = mentions_df[mentions_df[\"weight\"] >= min_mention_threshold].reset_index(drop=True)\n",
    "\n",
    "    args = [post_threshold]\n",
    "    user_hs_count = X.query('`user_id` in @y.index').groupby('user_id').predictions.mean().rename('hs_count')\n",
    "    mentions_hs_count = X.query('`user_id` in @filtered_mentions_df.source').groupby('user_id').predictions.mean().rename('hs_count').reset_index()\n",
    "    mentioned_by_hs_count =  X.query('`user_id` in @filtered_mentions_df.dest').groupby('user_id').predictions.mean().rename('hs_count').reset_index()\n",
    "\n",
    "    filtered_mentions_hs_count_df = pd.merge(\n",
    "        pd.merge(filtered_mentions_df, mentions_hs_count, left_on='source', right_on='user_id', how='left'),\n",
    "        mentioned_by_hs_count, left_on='dest', right_on='user_id', how='left', suffixes=('_source', '_dest')\n",
    "    ).fillna(0).astype(int).drop(columns=['source', 'dest', 'weight'])\n",
    "\n",
    "    following_hs_df = filtered_mentions_hs_count_df.groupby('user_id_source').agg({'hs_count_dest': ['mean', 'count', 'median']})\n",
    "    following_hs_df.columns = [f'following_hs_{x[1]}' for x in following_hs_df.columns.to_flat_index()]\n",
    "    followers_hs_df = filtered_mentions_hs_count_df.groupby('user_id_dest').agg({'hs_count_source': ['mean', 'count', 'median']})\n",
    "    followers_hs_df.columns = [f'followers_hs_{x[1]}' for x in followers_hs_df.columns.to_flat_index()]\n",
    "\n",
    "    followees_mean_hs_count_df =  filtered_mentions_hs_count_df.groupby('user_id_source')['hs_count_dest'].mean().rename('following_mean_hs_count')\n",
    "    followers_mean_hs_count_df = filtered_mentions_hs_count_df.groupby('user_id_dest')['hs_count_source'].mean().rename('followers_mean_hs_count')\n",
    "\n",
    "    user_hs_count_followees_followers_mean_hs_count = pd.merge(\n",
    "        pd.merge(\n",
    "            user_hs_count.rename('hs_count'), following_hs_df, left_index=True, right_index=True, how='left'\n",
    "        ), followers_hs_df, left_index=True, right_index=True, how='left'\n",
    "    ).fillna(0)\n",
    "\n",
    "    cols = ['hs_count', 'following_hs_mean', 'followers_hs_mean']\n",
    "    X_train = user_hs_count_followees_followers_mean_hs_count.loc[y_train.index, cols]\n",
    "    X_test = user_hs_count_followees_followers_mean_hs_count.loc[y_test.index, cols]\n",
    "\n",
    "    def objective(trial, X, y):\n",
    "        self_weight = trial.suggest_float('self_weight', 0, 1)\n",
    "        followers_weight = trial.suggest_float('followers_weight', 0, 1)\n",
    "        following_weight = trial.suggest_float('following_weight', 0, 1)\n",
    "        hs_score = np.dot(X, [self_weight, followers_weight, following_weight])\n",
    "        threshold = trial.suggest_float('threshold', min_th, max_th)\n",
    "        preds = hs_score >= threshold\n",
    "        return f1_score(y, preds)\n",
    "        \n",
    "        return get_relational_model_preds(X, y, self_weight, followers_weight, following_weight)\n",
    "\n",
    "    study = optuna.create_study(direction=\"maximize\", sampler=sampler)  # Create a new study.\n",
    "    study.optimize(lambda trial: objective(trial, X_train, y_train), n_trials=n_trials, show_progress_bar=True)\n",
    "\n",
    "    test_hs_score = np.dot(X_test, [study.best_params['self_weight'], study.best_params['followers_weight'], study.best_params['following_weight']])\n",
    "    preds = test_hs_score >= study.best_params['threshold']\n",
    "    test_f1 = f1_score(y_test, preds)\n",
    "    # test_f1 = get_relational_model_preds(X_test, y_test, **study.best_params)\n",
    "    best_f1 = study.best_value\n",
    "    print(study.best_params)\n",
    "    print(best_f1, test_f1)"
   ]
  },
  {
   "cell_type": "code",
   "execution_count": 398,
   "metadata": {},
   "outputs": [
    {
     "data": {
      "text/plain": [
       "0.35367036"
      ]
     },
     "execution_count": 398,
     "metadata": {},
     "output_type": "execute_result"
    }
   ],
   "source": [
    "post_threshold"
   ]
  },
  {
   "cell_type": "code",
   "execution_count": 397,
   "metadata": {},
   "outputs": [
    {
     "name": "stderr",
     "output_type": "stream",
     "text": [
      "100%|██████████| 1000/1000 [00:30<00:00, 33.33it/s]"
     ]
    },
    {
     "name": "stdout",
     "output_type": "stream",
     "text": [
      "{'self_weight': 0.6267064759591049, 'followers_weight': 0.7275436095907498, 'following_weight': 0.024272704622061214, 'threshold': 129.60467932864523}\n",
      "0.0 0.0\n"
     ]
    },
    {
     "name": "stderr",
     "output_type": "stream",
     "text": [
      "\n"
     ]
    }
   ],
   "source": [
    "post_threshold = optimal_threshold(y_true, y_prob)\n",
    "relational_threshold_method(user2pred, y, post_threshold=post_threshold, min_mention_threshold=9, n_trials=1000)"
   ]
  },
  {
   "cell_type": "markdown",
   "metadata": {
    "tags": []
   },
   "source": [
    "## ML Model"
   ]
  },
  {
   "cell_type": "raw",
   "metadata": {},
   "source": [
    "network_dir = f\"hate_networks/outputs/{dataset.split('_')[0]}_networks/network_data/\"\n",
    "edges_dir = os.path.join(network_dir, \"edges\")\n",
    "mentions_df = pd.read_csv(os.path.join(edges_dir, \"data_users_mention_edges_df.tsv\"), sep='\\t')\n",
    "retweets_df = pd.read_csv(os.path.join(edges_dir, \"data_users_retweet_edges_df.tsv\"), sep='\\t')"
   ]
  },
  {
   "cell_type": "code",
   "execution_count": 129,
   "metadata": {
    "tags": []
   },
   "outputs": [
    {
     "data": {
      "text/plain": [
       "array([0.66445183, 2.02020202])"
      ]
     },
     "execution_count": 129,
     "metadata": {},
     "output_type": "execute_result"
    }
   ],
   "source": [
    "y_train, y_test = train_test_split(y, test_size=0.2, random_state=None, stratify=y)\n",
    "class_weight = compute_class_weight(class_weight='balanced', y=y_train, classes=[0,1])\n",
    "class_weight"
   ]
  },
  {
   "cell_type": "code",
   "execution_count": 311,
   "metadata": {},
   "outputs": [],
   "source": [
    "def extract_feats(X, y, min_mentions_threshold, min_retweets_threshold):\n",
    "    user_mean_preds = X.groupby('user_id').predictions.mean().rename('mean_preds')\n",
    "\n",
    "    filtered_mentions_df = mentions_df.query('`weight`>=@min_mentions_threshold')\n",
    "    filtered_retweets_df = retweets_df.query('`weight`>=@min_retweets_threshold')\n",
    "\n",
    "    filtered_mentions_mean_pred_df = pd.merge(\n",
    "        pd.merge(\n",
    "            filtered_mentions_df.query('`source` in @y.index or `dest` in @y.index'),\n",
    "            user_mean_preds.rename('source_mean_pred'), left_on='source', right_index=True, how='left'\n",
    "        ), \n",
    "        user_mean_preds.rename('dest_mean_pred'), left_on='dest', right_index=True, how='left'\n",
    "    ).drop(columns=['weight'])\n",
    "    \n",
    "    filtered_retweets_mean_pred_df = pd.merge(\n",
    "        pd.merge(\n",
    "            filtered_retweets_df.query('`source` in @y.index or `dest` in @y.index'),\n",
    "            user_mean_preds.rename('source_mean_pred'), left_on='source', right_index=True, how='left'), \n",
    "        user_mean_preds.rename('dest_mean_pred'), left_on='dest', right_index=True, how='left'\n",
    "    ).drop(columns=['weight'])\n",
    "    \n",
    "    df = pd.concat([user_mean_preds.loc[y.index], \n",
    "           filtered_mentions_mean_pred_df.query('`source` in @y.index').groupby('source')['dest_mean_pred'].mean().rename('mentions_mean_pred'),\n",
    "           filtered_mentions_mean_pred_df.query('`dest` in @y.index').groupby('dest')['source_mean_pred'].mean().rename('mentioned_by_mean_pred'),\n",
    "           filtered_retweets_mean_pred_df.query('`source` in @y.index').groupby('source')['dest_mean_pred'].mean().rename('retweeted_mean_pred'),\n",
    "           filtered_retweets_mean_pred_df.query('`dest` in @y.index').groupby('dest')['source_mean_pred'].mean().rename('retweeted_by_mean_pred'),\n",
    "          ], axis=1).fillna(0)\n",
    "    \n",
    "    scaler = StandardScaler()\n",
    "    X_scaled = scaler.fit_transform(df)\n",
    "    return X_scaled"
   ]
  },
  {
   "cell_type": "code",
   "execution_count": 339,
   "metadata": {
    "tags": []
   },
   "outputs": [
    {
     "name": "stderr",
     "output_type": "stream",
     "text": [
      "100%|██████████| 100/100 [00:39<00:00,  2.51it/s]\n"
     ]
    }
   ],
   "source": [
    "def objective(trial, X, y):\n",
    "    min_mentions_threshold = trial.suggest_int('min_mentions_threshold', 1, 20)\n",
    "    min_retweets_threshold = trial.suggest_int('min_retweets_threshold', 1, 20)\n",
    "    lr_params = {\n",
    "        'C': trial.suggest_float('C', 1e-2, 1, log=True),\n",
    "        'penalty': trial.suggest_categorical('penalty', ['l1', 'l2']),\n",
    "        'class_weight': class_weight,\n",
    "        'solver': 'saga'\n",
    "    }\n",
    "    \n",
    "    X_scaled = extract_feats(X, y, min_mentions_threshold, min_retweets_threshold)\n",
    "    lr = LogisticRegression(**lr_params)\n",
    "    score = cross_val_score(lr, X_scaled, y, cv=3, scoring='roc_auc')\n",
    "    trial.set_user_attr('lr_params', lr_params)\n",
    "    trial.set_user_attr('clf', lr)\n",
    "    return score.mean()\n",
    "    \n",
    "study = optuna.create_study(direction=\"maximize\", sampler=sampler, pruner=optuna.pruners.HyperbandPruner())  # Create a new study.\n",
    "study.optimize(lambda trial: objective(trial, user2pred, y_train), n_trials=100, show_progress_bar=True)"
   ]
  },
  {
   "cell_type": "code",
   "execution_count": 340,
   "metadata": {},
   "outputs": [
    {
     "data": {
      "text/plain": [
       "({'min_mentions_threshold': 11,\n",
       "  'min_retweets_threshold': 8,\n",
       "  'C': 0.06424097883256556,\n",
       "  'penalty': 'l1'},\n",
       " 0.7669293683099653)"
      ]
     },
     "execution_count": 340,
     "metadata": {},
     "output_type": "execute_result"
    }
   ],
   "source": [
    "study.best_params, study.best_value"
   ]
  },
  {
   "cell_type": "code",
   "execution_count": 341,
   "metadata": {},
   "outputs": [
    {
     "data": {
      "text/plain": [
       "7"
      ]
     },
     "execution_count": 341,
     "metadata": {},
     "output_type": "execute_result"
    }
   ],
   "source": [
    "min_retweets_threshold"
   ]
  },
  {
   "cell_type": "code",
   "execution_count": 342,
   "metadata": {},
   "outputs": [],
   "source": [
    "min_mentions_threshold=study.best_params['min_mentions_threshold']\n",
    "min_retweets_threshold=study.best_params['min_retweets_threshold']\n",
    "filtered_mentions_df = mentions_df[mentions_df[\"weight\"] >= min_mention_threshold].reset_index(drop=True)\n",
    "filtered_retweets_df = retweets_df[retweets_df[\"weight\"] >= min_retweets_threshold].reset_index(drop=True)"
   ]
  },
  {
   "cell_type": "code",
   "execution_count": 343,
   "metadata": {},
   "outputs": [
    {
     "data": {
      "text/html": [
       "<div>\n",
       "<style scoped>\n",
       "    .dataframe tbody tr th:only-of-type {\n",
       "        vertical-align: middle;\n",
       "    }\n",
       "\n",
       "    .dataframe tbody tr th {\n",
       "        vertical-align: top;\n",
       "    }\n",
       "\n",
       "    .dataframe thead th {\n",
       "        text-align: right;\n",
       "    }\n",
       "</style>\n",
       "<table border=\"1\" class=\"dataframe\">\n",
       "  <thead>\n",
       "    <tr style=\"text-align: right;\">\n",
       "      <th></th>\n",
       "      <th>source</th>\n",
       "      <th>dest</th>\n",
       "      <th>source_mean_pred</th>\n",
       "      <th>dest_mean_pred</th>\n",
       "    </tr>\n",
       "  </thead>\n",
       "  <tbody>\n",
       "    <tr>\n",
       "      <th>0</th>\n",
       "      <td>1175</td>\n",
       "      <td>4735</td>\n",
       "      <td>0.065246</td>\n",
       "      <td>0.088122</td>\n",
       "    </tr>\n",
       "    <tr>\n",
       "      <th>8</th>\n",
       "      <td>1175</td>\n",
       "      <td>1307</td>\n",
       "      <td>0.065246</td>\n",
       "      <td>0.071304</td>\n",
       "    </tr>\n",
       "    <tr>\n",
       "      <th>11</th>\n",
       "      <td>1175</td>\n",
       "      <td>1843</td>\n",
       "      <td>0.065246</td>\n",
       "      <td>0.071964</td>\n",
       "    </tr>\n",
       "    <tr>\n",
       "      <th>12</th>\n",
       "      <td>1175</td>\n",
       "      <td>979</td>\n",
       "      <td>0.065246</td>\n",
       "      <td>0.067145</td>\n",
       "    </tr>\n",
       "    <tr>\n",
       "      <th>13</th>\n",
       "      <td>1175</td>\n",
       "      <td>1412</td>\n",
       "      <td>0.065246</td>\n",
       "      <td>0.069431</td>\n",
       "    </tr>\n",
       "    <tr>\n",
       "      <th>...</th>\n",
       "      <td>...</td>\n",
       "      <td>...</td>\n",
       "      <td>...</td>\n",
       "      <td>...</td>\n",
       "    </tr>\n",
       "    <tr>\n",
       "      <th>52517</th>\n",
       "      <td>365062</td>\n",
       "      <td>251</td>\n",
       "      <td>0.222626</td>\n",
       "      <td>0.066947</td>\n",
       "    </tr>\n",
       "    <tr>\n",
       "      <th>52521</th>\n",
       "      <td>337381</td>\n",
       "      <td>251</td>\n",
       "      <td>0.082006</td>\n",
       "      <td>0.066947</td>\n",
       "    </tr>\n",
       "    <tr>\n",
       "      <th>52528</th>\n",
       "      <td>287255</td>\n",
       "      <td>218031</td>\n",
       "      <td>0.202939</td>\n",
       "      <td>0.127387</td>\n",
       "    </tr>\n",
       "    <tr>\n",
       "      <th>52554</th>\n",
       "      <td>370203</td>\n",
       "      <td>251</td>\n",
       "      <td>0.039059</td>\n",
       "      <td>0.066947</td>\n",
       "    </tr>\n",
       "    <tr>\n",
       "      <th>52630</th>\n",
       "      <td>170310</td>\n",
       "      <td>233064</td>\n",
       "      <td>0.095744</td>\n",
       "      <td>0.057226</td>\n",
       "    </tr>\n",
       "  </tbody>\n",
       "</table>\n",
       "<p>5223 rows × 4 columns</p>\n",
       "</div>"
      ],
      "text/plain": [
       "       source    dest  source_mean_pred  dest_mean_pred\n",
       "0        1175    4735          0.065246        0.088122\n",
       "8        1175    1307          0.065246        0.071304\n",
       "11       1175    1843          0.065246        0.071964\n",
       "12       1175     979          0.065246        0.067145\n",
       "13       1175    1412          0.065246        0.069431\n",
       "...       ...     ...               ...             ...\n",
       "52517  365062     251          0.222626        0.066947\n",
       "52521  337381     251          0.082006        0.066947\n",
       "52528  287255  218031          0.202939        0.127387\n",
       "52554  370203     251          0.039059        0.066947\n",
       "52630  170310  233064          0.095744        0.057226\n",
       "\n",
       "[5223 rows x 4 columns]"
      ]
     },
     "execution_count": 343,
     "metadata": {},
     "output_type": "execute_result"
    }
   ],
   "source": [
    "filtered_mentions_mean_pred_df = pd.merge(pd.merge(\n",
    "    filtered_mentions_df.query('`source` in @y.index or `dest` in @y.index'), user_mean_preds.rename('source_mean_pred'), left_on='source', right_index=True, how='left'\n",
    "), user_mean_preds.rename('dest_mean_pred'), left_on='dest', right_index=True, how='left').drop(columns=['weight'])\n",
    "filtered_mentions_mean_pred_df"
   ]
  },
  {
   "cell_type": "code",
   "execution_count": 344,
   "metadata": {},
   "outputs": [
    {
     "data": {
      "text/html": [
       "<div>\n",
       "<style scoped>\n",
       "    .dataframe tbody tr th:only-of-type {\n",
       "        vertical-align: middle;\n",
       "    }\n",
       "\n",
       "    .dataframe tbody tr th {\n",
       "        vertical-align: top;\n",
       "    }\n",
       "\n",
       "    .dataframe thead th {\n",
       "        text-align: right;\n",
       "    }\n",
       "</style>\n",
       "<table border=\"1\" class=\"dataframe\">\n",
       "  <thead>\n",
       "    <tr style=\"text-align: right;\">\n",
       "      <th></th>\n",
       "      <th>source</th>\n",
       "      <th>dest</th>\n",
       "      <th>source_mean_pred</th>\n",
       "      <th>dest_mean_pred</th>\n",
       "    </tr>\n",
       "  </thead>\n",
       "  <tbody>\n",
       "    <tr>\n",
       "      <th>8</th>\n",
       "      <td>5563</td>\n",
       "      <td>9824</td>\n",
       "      <td>0.100030</td>\n",
       "      <td>0.122918</td>\n",
       "    </tr>\n",
       "    <tr>\n",
       "      <th>24</th>\n",
       "      <td>9713</td>\n",
       "      <td>9824</td>\n",
       "      <td>0.130907</td>\n",
       "      <td>0.122918</td>\n",
       "    </tr>\n",
       "    <tr>\n",
       "      <th>86</th>\n",
       "      <td>34741</td>\n",
       "      <td>9824</td>\n",
       "      <td>0.144276</td>\n",
       "      <td>0.122918</td>\n",
       "    </tr>\n",
       "    <tr>\n",
       "      <th>107</th>\n",
       "      <td>34741</td>\n",
       "      <td>33605</td>\n",
       "      <td>0.144276</td>\n",
       "      <td>0.115847</td>\n",
       "    </tr>\n",
       "    <tr>\n",
       "      <th>111</th>\n",
       "      <td>34741</td>\n",
       "      <td>47925</td>\n",
       "      <td>0.144276</td>\n",
       "      <td>0.141938</td>\n",
       "    </tr>\n",
       "    <tr>\n",
       "      <th>...</th>\n",
       "      <td>...</td>\n",
       "      <td>...</td>\n",
       "      <td>...</td>\n",
       "      <td>...</td>\n",
       "    </tr>\n",
       "    <tr>\n",
       "      <th>158739</th>\n",
       "      <td>351496</td>\n",
       "      <td>233064</td>\n",
       "      <td>0.071600</td>\n",
       "      <td>0.057226</td>\n",
       "    </tr>\n",
       "    <tr>\n",
       "      <th>158753</th>\n",
       "      <td>384028</td>\n",
       "      <td>233064</td>\n",
       "      <td>0.086523</td>\n",
       "      <td>0.057226</td>\n",
       "    </tr>\n",
       "    <tr>\n",
       "      <th>158779</th>\n",
       "      <td>387877</td>\n",
       "      <td>233064</td>\n",
       "      <td>0.116736</td>\n",
       "      <td>0.057226</td>\n",
       "    </tr>\n",
       "    <tr>\n",
       "      <th>158797</th>\n",
       "      <td>383548</td>\n",
       "      <td>288291</td>\n",
       "      <td>0.078808</td>\n",
       "      <td>0.046599</td>\n",
       "    </tr>\n",
       "    <tr>\n",
       "      <th>158814</th>\n",
       "      <td>39147</td>\n",
       "      <td>9824</td>\n",
       "      <td>0.169775</td>\n",
       "      <td>0.122918</td>\n",
       "    </tr>\n",
       "  </tbody>\n",
       "</table>\n",
       "<p>10516 rows × 4 columns</p>\n",
       "</div>"
      ],
      "text/plain": [
       "        source    dest  source_mean_pred  dest_mean_pred\n",
       "8         5563    9824          0.100030        0.122918\n",
       "24        9713    9824          0.130907        0.122918\n",
       "86       34741    9824          0.144276        0.122918\n",
       "107      34741   33605          0.144276        0.115847\n",
       "111      34741   47925          0.144276        0.141938\n",
       "...        ...     ...               ...             ...\n",
       "158739  351496  233064          0.071600        0.057226\n",
       "158753  384028  233064          0.086523        0.057226\n",
       "158779  387877  233064          0.116736        0.057226\n",
       "158797  383548  288291          0.078808        0.046599\n",
       "158814   39147    9824          0.169775        0.122918\n",
       "\n",
       "[10516 rows x 4 columns]"
      ]
     },
     "execution_count": 344,
     "metadata": {},
     "output_type": "execute_result"
    }
   ],
   "source": [
    "filtered_retweets_mean_pred_df = pd.merge(pd.merge(\n",
    "    filtered_retweets_df.query('`source` in @y.index or `dest` in @y.index'), user_mean_preds.rename('source_mean_pred'), left_on='source', right_index=True, how='left'\n",
    "), user_mean_preds.rename('dest_mean_pred'), left_on='dest', right_index=True, how='left').drop(columns=['weight'])\n",
    "filtered_retweets_mean_pred_df"
   ]
  },
  {
   "cell_type": "code",
   "execution_count": 345,
   "metadata": {},
   "outputs": [
    {
     "data": {
      "text/html": [
       "<div>\n",
       "<style scoped>\n",
       "    .dataframe tbody tr th:only-of-type {\n",
       "        vertical-align: middle;\n",
       "    }\n",
       "\n",
       "    .dataframe tbody tr th {\n",
       "        vertical-align: top;\n",
       "    }\n",
       "\n",
       "    .dataframe thead th {\n",
       "        text-align: right;\n",
       "    }\n",
       "</style>\n",
       "<table border=\"1\" class=\"dataframe\">\n",
       "  <thead>\n",
       "    <tr style=\"text-align: right;\">\n",
       "      <th></th>\n",
       "      <th>mean_preds</th>\n",
       "      <th>mentions_mean_pred</th>\n",
       "      <th>mentioned_by_mean_pred</th>\n",
       "      <th>retweeted_mean_pred</th>\n",
       "      <th>retweeted_by_mean_pred</th>\n",
       "    </tr>\n",
       "  </thead>\n",
       "  <tbody>\n",
       "    <tr>\n",
       "      <th>251</th>\n",
       "      <td>0.066947</td>\n",
       "      <td>0.000000</td>\n",
       "      <td>0.096093</td>\n",
       "      <td>0.000000</td>\n",
       "      <td>0.098567</td>\n",
       "    </tr>\n",
       "    <tr>\n",
       "      <th>501</th>\n",
       "      <td>0.064894</td>\n",
       "      <td>0.088221</td>\n",
       "      <td>0.000000</td>\n",
       "      <td>0.000000</td>\n",
       "      <td>0.000000</td>\n",
       "    </tr>\n",
       "    <tr>\n",
       "      <th>766</th>\n",
       "      <td>0.052865</td>\n",
       "      <td>0.082025</td>\n",
       "      <td>0.079154</td>\n",
       "      <td>0.000000</td>\n",
       "      <td>0.000000</td>\n",
       "    </tr>\n",
       "    <tr>\n",
       "      <th>773</th>\n",
       "      <td>0.079690</td>\n",
       "      <td>0.077437</td>\n",
       "      <td>0.107885</td>\n",
       "      <td>0.000000</td>\n",
       "      <td>0.000000</td>\n",
       "    </tr>\n",
       "    <tr>\n",
       "      <th>838</th>\n",
       "      <td>0.091729</td>\n",
       "      <td>0.000000</td>\n",
       "      <td>0.000000</td>\n",
       "      <td>0.000000</td>\n",
       "      <td>0.000000</td>\n",
       "    </tr>\n",
       "    <tr>\n",
       "      <th>...</th>\n",
       "      <td>...</td>\n",
       "      <td>...</td>\n",
       "      <td>...</td>\n",
       "      <td>...</td>\n",
       "      <td>...</td>\n",
       "    </tr>\n",
       "    <tr>\n",
       "      <th>374034</th>\n",
       "      <td>0.072568</td>\n",
       "      <td>0.000000</td>\n",
       "      <td>0.000000</td>\n",
       "      <td>0.084381</td>\n",
       "      <td>0.000000</td>\n",
       "    </tr>\n",
       "    <tr>\n",
       "      <th>380071</th>\n",
       "      <td>0.073753</td>\n",
       "      <td>0.000000</td>\n",
       "      <td>0.000000</td>\n",
       "      <td>0.000000</td>\n",
       "      <td>0.000000</td>\n",
       "    </tr>\n",
       "    <tr>\n",
       "      <th>381309</th>\n",
       "      <td>0.108513</td>\n",
       "      <td>0.000000</td>\n",
       "      <td>0.000000</td>\n",
       "      <td>0.131137</td>\n",
       "      <td>0.000000</td>\n",
       "    </tr>\n",
       "    <tr>\n",
       "      <th>385490</th>\n",
       "      <td>0.073485</td>\n",
       "      <td>0.000000</td>\n",
       "      <td>0.000000</td>\n",
       "      <td>0.000000</td>\n",
       "      <td>0.000000</td>\n",
       "    </tr>\n",
       "    <tr>\n",
       "      <th>387436</th>\n",
       "      <td>0.089857</td>\n",
       "      <td>0.000000</td>\n",
       "      <td>0.000000</td>\n",
       "      <td>0.000000</td>\n",
       "      <td>0.000000</td>\n",
       "    </tr>\n",
       "  </tbody>\n",
       "</table>\n",
       "<p>1000 rows × 5 columns</p>\n",
       "</div>"
      ],
      "text/plain": [
       "        mean_preds  mentions_mean_pred  mentioned_by_mean_pred  \\\n",
       "251       0.066947            0.000000                0.096093   \n",
       "501       0.064894            0.088221                0.000000   \n",
       "766       0.052865            0.082025                0.079154   \n",
       "773       0.079690            0.077437                0.107885   \n",
       "838       0.091729            0.000000                0.000000   \n",
       "...            ...                 ...                     ...   \n",
       "374034    0.072568            0.000000                0.000000   \n",
       "380071    0.073753            0.000000                0.000000   \n",
       "381309    0.108513            0.000000                0.000000   \n",
       "385490    0.073485            0.000000                0.000000   \n",
       "387436    0.089857            0.000000                0.000000   \n",
       "\n",
       "        retweeted_mean_pred  retweeted_by_mean_pred  \n",
       "251                0.000000                0.098567  \n",
       "501                0.000000                0.000000  \n",
       "766                0.000000                0.000000  \n",
       "773                0.000000                0.000000  \n",
       "838                0.000000                0.000000  \n",
       "...                     ...                     ...  \n",
       "374034             0.084381                0.000000  \n",
       "380071             0.000000                0.000000  \n",
       "381309             0.131137                0.000000  \n",
       "385490             0.000000                0.000000  \n",
       "387436             0.000000                0.000000  \n",
       "\n",
       "[1000 rows x 5 columns]"
      ]
     },
     "execution_count": 345,
     "metadata": {},
     "output_type": "execute_result"
    }
   ],
   "source": [
    "X = pd.concat([user_mean_preds.loc[y.index], \n",
    "           filtered_mentions_mean_pred_df.query('`source` in @y.index').groupby('source')['dest_mean_pred'].mean().rename('mentions_mean_pred'),\n",
    "           filtered_mentions_mean_pred_df.query('`dest` in @y.index').groupby('dest')['source_mean_pred'].mean().rename('mentioned_by_mean_pred'),\n",
    "           filtered_retweets_mean_pred_df.query('`source` in @y.index').groupby('source')['dest_mean_pred'].mean().rename('retweeted_mean_pred'),\n",
    "           filtered_retweets_mean_pred_df.query('`dest` in @y.index').groupby('dest')['source_mean_pred'].mean().rename('retweeted_by_mean_pred'),\n",
    "          ], axis=1).fillna(0)\n",
    "train_df = X.loc[y_train.index]\n",
    "test_df = X.loc[y_test.index]\n",
    "X"
   ]
  },
  {
   "cell_type": "code",
   "execution_count": 346,
   "metadata": {},
   "outputs": [
    {
     "data": {
      "text/html": [
       "<style>#sk-container-id-21 {color: black;background-color: white;}#sk-container-id-21 pre{padding: 0;}#sk-container-id-21 div.sk-toggleable {background-color: white;}#sk-container-id-21 label.sk-toggleable__label {cursor: pointer;display: block;width: 100%;margin-bottom: 0;padding: 0.3em;box-sizing: border-box;text-align: center;}#sk-container-id-21 label.sk-toggleable__label-arrow:before {content: \"▸\";float: left;margin-right: 0.25em;color: #696969;}#sk-container-id-21 label.sk-toggleable__label-arrow:hover:before {color: black;}#sk-container-id-21 div.sk-estimator:hover label.sk-toggleable__label-arrow:before {color: black;}#sk-container-id-21 div.sk-toggleable__content {max-height: 0;max-width: 0;overflow: hidden;text-align: left;background-color: #f0f8ff;}#sk-container-id-21 div.sk-toggleable__content pre {margin: 0.2em;color: black;border-radius: 0.25em;background-color: #f0f8ff;}#sk-container-id-21 input.sk-toggleable__control:checked~div.sk-toggleable__content {max-height: 200px;max-width: 100%;overflow: auto;}#sk-container-id-21 input.sk-toggleable__control:checked~label.sk-toggleable__label-arrow:before {content: \"▾\";}#sk-container-id-21 div.sk-estimator input.sk-toggleable__control:checked~label.sk-toggleable__label {background-color: #d4ebff;}#sk-container-id-21 div.sk-label input.sk-toggleable__control:checked~label.sk-toggleable__label {background-color: #d4ebff;}#sk-container-id-21 input.sk-hidden--visually {border: 0;clip: rect(1px 1px 1px 1px);clip: rect(1px, 1px, 1px, 1px);height: 1px;margin: -1px;overflow: hidden;padding: 0;position: absolute;width: 1px;}#sk-container-id-21 div.sk-estimator {font-family: monospace;background-color: #f0f8ff;border: 1px dotted black;border-radius: 0.25em;box-sizing: border-box;margin-bottom: 0.5em;}#sk-container-id-21 div.sk-estimator:hover {background-color: #d4ebff;}#sk-container-id-21 div.sk-parallel-item::after {content: \"\";width: 100%;border-bottom: 1px solid gray;flex-grow: 1;}#sk-container-id-21 div.sk-label:hover label.sk-toggleable__label {background-color: #d4ebff;}#sk-container-id-21 div.sk-serial::before {content: \"\";position: absolute;border-left: 1px solid gray;box-sizing: border-box;top: 0;bottom: 0;left: 50%;z-index: 0;}#sk-container-id-21 div.sk-serial {display: flex;flex-direction: column;align-items: center;background-color: white;padding-right: 0.2em;padding-left: 0.2em;position: relative;}#sk-container-id-21 div.sk-item {position: relative;z-index: 1;}#sk-container-id-21 div.sk-parallel {display: flex;align-items: stretch;justify-content: center;background-color: white;position: relative;}#sk-container-id-21 div.sk-item::before, #sk-container-id-21 div.sk-parallel-item::before {content: \"\";position: absolute;border-left: 1px solid gray;box-sizing: border-box;top: 0;bottom: 0;left: 50%;z-index: -1;}#sk-container-id-21 div.sk-parallel-item {display: flex;flex-direction: column;z-index: 1;position: relative;background-color: white;}#sk-container-id-21 div.sk-parallel-item:first-child::after {align-self: flex-end;width: 50%;}#sk-container-id-21 div.sk-parallel-item:last-child::after {align-self: flex-start;width: 50%;}#sk-container-id-21 div.sk-parallel-item:only-child::after {width: 0;}#sk-container-id-21 div.sk-dashed-wrapped {border: 1px dashed gray;margin: 0 0.4em 0.5em 0.4em;box-sizing: border-box;padding-bottom: 0.4em;background-color: white;}#sk-container-id-21 div.sk-label label {font-family: monospace;font-weight: bold;display: inline-block;line-height: 1.2em;}#sk-container-id-21 div.sk-label-container {text-align: center;}#sk-container-id-21 div.sk-container {/* jupyter's `normalize.less` sets `[hidden] { display: none; }` but bootstrap.min.css set `[hidden] { display: none !important; }` so we also need the `!important` here to be able to override the default hidden behavior on the sphinx rendered scikit-learn.org. See: https://github.com/scikit-learn/scikit-learn/issues/21755 */display: inline-block !important;position: relative;}#sk-container-id-21 div.sk-text-repr-fallback {display: none;}</style><div id=\"sk-container-id-21\" class=\"sk-top-container\"><div class=\"sk-text-repr-fallback\"><pre>LogisticRegression(C=0.06424097883256556,\n",
       "                   class_weight=array([0.66445183, 2.02020202]), penalty=&#x27;l1&#x27;,\n",
       "                   solver=&#x27;saga&#x27;)</pre><b>In a Jupyter environment, please rerun this cell to show the HTML representation or trust the notebook. <br />On GitHub, the HTML representation is unable to render, please try loading this page with nbviewer.org.</b></div><div class=\"sk-container\" hidden><div class=\"sk-item\"><div class=\"sk-estimator sk-toggleable\"><input class=\"sk-toggleable__control sk-hidden--visually\" id=\"sk-estimator-id-21\" type=\"checkbox\" checked><label for=\"sk-estimator-id-21\" class=\"sk-toggleable__label sk-toggleable__label-arrow\">LogisticRegression</label><div class=\"sk-toggleable__content\"><pre>LogisticRegression(C=0.06424097883256556,\n",
       "                   class_weight=array([0.66445183, 2.02020202]), penalty=&#x27;l1&#x27;,\n",
       "                   solver=&#x27;saga&#x27;)</pre></div></div></div></div></div>"
      ],
      "text/plain": [
       "LogisticRegression(C=0.06424097883256556,\n",
       "                   class_weight=array([0.66445183, 2.02020202]), penalty='l1',\n",
       "                   solver='saga')"
      ]
     },
     "execution_count": 346,
     "metadata": {},
     "output_type": "execute_result"
    }
   ],
   "source": [
    "scaler = StandardScaler()\n",
    "X_train = scaler.fit_transform(train_df)\n",
    "X_test = scaler.transform(test_df)\n",
    "\n",
    "lr = study.best_trial.user_attrs['clf']\n",
    "lr.fit(X_train, y_train)"
   ]
  },
  {
   "cell_type": "code",
   "execution_count": 347,
   "metadata": {},
   "outputs": [
    {
     "name": "stdout",
     "output_type": "stream",
     "text": [
      "Train: 0.21487603305785125\n",
      "Test: 0.13333333333333333\n"
     ]
    }
   ],
   "source": [
    "print(f'Train: {f1_score(lr.predict(X_train), y_train)}')\n",
    "print(f'Test: {f1_score(lr.predict(X_test), y_test)}')"
   ]
  },
  {
   "cell_type": "code",
   "execution_count": 348,
   "metadata": {},
   "outputs": [],
   "source": [
    "train_proba = lr.predict_proba(X_train)[:, 1]\n",
    "test_proba = lr.predict_proba(X_test)[:, 1]\n",
    "threshold = optimal_threshold(y_train, train_proba)\n",
    "train_preds = train_proba>=threshold\n",
    "test_preds = test_proba>=threshold"
   ]
  },
  {
   "cell_type": "code",
   "execution_count": 349,
   "metadata": {},
   "outputs": [
    {
     "name": "stdout",
     "output_type": "stream",
     "text": [
      "Train: 0.5454545454545454\n",
      "Test: 0.3759398496240602\n"
     ]
    }
   ],
   "source": [
    "print(f'Train: {f1_score(train_preds, y_train)}')\n",
    "print(f'Test: {f1_score(test_preds, y_test)}')"
   ]
  },
  {
   "cell_type": "code",
   "execution_count": 350,
   "metadata": {},
   "outputs": [
    {
     "data": {
      "image/png": "[encoded data removed]",
      "text/plain": [
       "<Figure size 600x600 with 1 Axes>"
      ]
     },
     "metadata": {},
     "output_type": "display_data"
    }
   ],
   "source": [
    "fig, ax = plt.subplots(figsize=(6,6))\n",
    "display = RocCurveDisplay.from_estimator(lr, X_train, y_train, ax=ax, name='train', color='b')\n",
    "display = RocCurveDisplay.from_estimator(lr, X_test, y_test, ax=ax, name='test', color='r')\n",
    "plt.show()"
   ]
  },
  {
   "cell_type": "code",
   "execution_count": 351,
   "metadata": {},
   "outputs": [
    {
     "data": {
      "image/png": "[encoded data removed]",
      "text/plain": [
       "<Figure size 600x600 with 1 Axes>"
      ]
     },
     "metadata": {},
     "output_type": "display_data"
    }
   ],
   "source": [
    "fig, ax = plt.subplots(figsize=(6,6))\n",
    "display = PrecisionRecallDisplay.from_estimator(lr, X_train, y_train, ax=ax, name='train', color='b')\n",
    "display = PrecisionRecallDisplay.from_estimator(lr, X_test, y_test, ax=ax, name='test', color='r')\n",
    "plt.show()"
   ]
  },
  {
   "cell_type": "markdown",
   "metadata": {
    "jp-MarkdownHeadingCollapsed": true,
    "tags": []
   },
   "source": [
    "# Dynamic Threshold"
   ]
  },
  {
   "cell_type": "code",
   "execution_count": 195,
   "metadata": {},
   "outputs": [],
   "source": [
    "def dynamic_threshold_method(X: pd.DataFrame, y: pd.DataFrame, test_ratio=0.2, random_state=None, proba_threshold=0.5):\n",
    "\n",
    "    hs_count_and_avg_score_per_user = X.groupby('user_id').agg(\n",
    "        avg_hs_score=(\"predictions\", \"mean\"),\n",
    "        hs_count=(\"predictions\", lambda p: get_hs_count(p, proba_threshold)))\n",
    "\n",
    "    y_train, y_test = train_test_split(y, test_size=test_ratio, random_state=random_state, stratify=y)\n",
    "    X_train = hs_count_and_avg_score_per_user.loc[y_train.index]\n",
    "    X_test = hs_count_and_avg_score_per_user.loc[y_test.index]\n",
    "    print(f'Train Percent HS Users: {y_train.mean()}')\n",
    "    print(f'Test Percent HS Users: {y_test.mean()}')\n",
    "\n",
    "    def calc_soft_threshold(arr, lower_bound, higher_bound, low_th, medium_th, high_th):\n",
    "        return arr[:, 1] >= np.where(arr[:, 0] < lower_bound, high_th, np.where(arr[:, 0] < higher_bound, medium_th, low_th))\n",
    "\n",
    "    def objective(trial):\n",
    "        lower_bound = trial.suggest_float(\"lower_bound\", 0.01, 0.15)\n",
    "        higher_bound = trial.suggest_float(\"higher_bound\", lower_bound + 0.01, 0.3)\n",
    "        low_th = trial.suggest_int(\"low_th\", 1, np.percentile(X_train['hs_count'].values, 20).astype(int)+1)\n",
    "        medium_th = trial.suggest_int(\"medium_th\", low_th+1, np.percentile(X_train['hs_count'].values, 40).astype(int)+1)\n",
    "        high_th = trial.suggest_int(\"high_th\", medium_th + 1, np.percentile(X_train['hs_count'].values, 60).astype(int)+1)\n",
    "\n",
    "        c0 = float(0.01 + lower_bound - higher_bound)\n",
    "        c1 = float(1 + medium_th - high_th)\n",
    "        c2 = float(1 + low_th - medium_th)\n",
    "\n",
    "        # Store the constraints as user attributes so that they can be restored after optimization.\n",
    "        trial.set_user_attr(\"constraint\", (c0, c1, c2))\n",
    "\n",
    "        y_pred = calc_soft_threshold(X_train.values, lower_bound, higher_bound, low_th, medium_th, high_th)\n",
    "\n",
    "        f1 = f1_score(y_train, y_pred)\n",
    "        return f1\n",
    "\n",
    "    def constraints(trial):\n",
    "        return trial.user_attrs[\"constraint\"]\n",
    "\n",
    "    sampler = optuna.samplers.NSGAIISampler(\n",
    "        constraints_func=constraints\n",
    "    )\n",
    "    study = optuna.create_study(\n",
    "        direction='maximize',\n",
    "        sampler=sampler,\n",
    "    )\n",
    "    study.optimize(objective, n_trials=5000, show_progress_bar=True)\n",
    "    best_f1 = study.best_value\n",
    "    logger.info(f\"Max f1-score: {best_f1}\")\n",
    "\n",
    "    # y_true = test_g_df[\"label\"].values\n",
    "    y_pred = calc_soft_threshold(X_test.values, **study.best_params)\n",
    "    print(study.best_params)\n",
    "    print(best_f1, f1_score(y_test, y_pred))"
   ]
  },
  {
   "cell_type": "code",
   "execution_count": 205,
   "metadata": {},
   "outputs": [
    {
     "name": "stdout",
     "output_type": "stream",
     "text": [
      "Train Percent HS Users: 0.15375\n",
      "Test Percent HS Users: 0.155\n"
     ]
    },
    {
     "name": "stderr",
     "output_type": "stream",
     "text": [
      "100%|██████████| 5000/5000 [01:05<00:00, 76.72it/s] "
     ]
    },
    {
     "name": "stdout",
     "output_type": "stream",
     "text": [
      "\u001B[32m2023-02-13 23:59:05,681 - INFO     - user_level_simple_models - Max f1-score: 0.5161290322580645\u001B[0m\n",
      "{'lower_bound': 0.07279273284035742, 'higher_bound': 0.2976304463903019, 'low_th': 2, 'medium_th': 20, 'high_th': 81}\n",
      "0.5161290322580645 0.543859649122807\n"
     ]
    },
    {
     "name": "stderr",
     "output_type": "stream",
     "text": [
      "\n"
     ]
    }
   ],
   "source": [
    "dynamic_threshold_method(X, y, proba_threshold=0.5)"
   ]
  },
  {
   "cell_type": "raw",
   "metadata": {},
   "source": [
    "best_params = {'lower_bound': 0.14051533151937082, 'higher_bound': 0.23160535070882932, 'low_th': 7, 'medium_th': 12, 'high_th': 20}"
   ]
  },
  {
   "cell_type": "markdown",
   "metadata": {},
   "source": [
    "# Run Experiment"
   ]
  },
  {
   "cell_type": "raw",
   "metadata": {
    "jupyter": {
     "source_hidden": true
    },
    "tags": []
   },
   "source": [
    "import argparse"
   ]
  },
  {
   "cell_type": "raw",
   "metadata": {
    "jupyter": {
     "source_hidden": true
    },
    "tags": []
   },
   "source": [
    "parser = argparse.ArgumentParser(\n",
    "                    prog = 'ThresholdMethodsExperiment',\n",
    "                    description = 'Run Threshold Methods Experiment',\n",
    "                    epilog = '--help for help')\n",
    "\n",
    "parser.add_argument('-v', '--verbose',\n",
    "                    action='store_true')\n",
    "parser.add_argument('--dataset', type=str, help='the dataset name', nargs='?', action='store', default='echo', choices=['echo', 'gab', 'parler'])\n",
    "parser.add_argument('--methods', type=str, help='the threshold method(s) name(s)', nargs='*', action='store', required=True, choices=['fixed', 'relational', 'dynamic'])\n",
    "parser.add_argument('--model', type=str, help='the post-level model name', nargs=1, action='store', default='ffnn', choices=['ffnn', 'cnn', 'lstm', 'bert'])\n",
    "parser.add_argument('--proba_threshold', type=float, help='the post-level proba threshold for predicting post as hateful', nargs=1, action='store', default=0.5, choices=range(0,1))\n",
    "args = parser.parse_args(['--method', 'fixed', 'relational', 'dynamic', '--dataset' , 'gab'])\n",
    "args"
   ]
  },
  {
   "cell_type": "raw",
   "metadata": {
    "jupyter": {
     "source_hidden": true
    },
    "tags": []
   },
   "source": [
    "import wandb\n",
    "wandb.init(\n",
    "    # set the wandb project where this run will be logged\n",
    "    project=\"threshold-methods-experiment\",\n",
    "    \n",
    "    # track hyperparameters and run metadata\n",
    "    config={\n",
    "        'dataset': args.dataset,\n",
    "        'model':args.model,\n",
    "        'proba_threshold':args.proba_threshold,\n",
    "        'methods': args.methods\n",
    "    }\n",
    ")"
   ]
  },
  {
   "cell_type": "raw",
   "metadata": {
    "jupyter": {
     "source_hidden": true
    },
    "tags": []
   },
   "source": [
    "wandb.config"
   ]
  },
  {
   "cell_type": "raw",
   "metadata": {
    "jupyter": {
     "source_hidden": true
    },
    "tags": []
   },
   "source": [
    "post_level_execution_config[\"kwargs\"]"
   ]
  },
  {
   "cell_type": "code",
   "execution_count": 7,
   "metadata": {},
   "outputs": [
    {
     "data": {
      "text/plain": [
       "{'trained_data': 'parler', 'inference_data': 'parler'}"
      ]
     },
     "execution_count": 7,
     "metadata": {},
     "output_type": "execute_result"
    }
   ],
   "source": [
    "user_level_execution_config"
   ]
  },
  {
   "cell_type": "code",
   "execution_count": 6,
   "metadata": {},
   "outputs": [
    {
     "name": "stdout",
     "output_type": "stream",
     "text": [
      "\u001B[32m2023-02-22 20:02:03,665 - INFO     - user_level_simple_models - executing dataset parler...\u001B[0m\n"
     ]
    },
    {
     "ename": "ValueError",
     "evalue": "invalid literal for int() with base 10: 'Rob0303'",
     "output_type": "error",
     "traceback": [
      "\u001B[0;31m---------------------------------------------------------------------------\u001B[0m",
      "\u001B[0;31mValueError\u001B[0m                                Traceback (most recent call last)",
      "Cell \u001B[0;32mIn[6], line 5\u001B[0m\n\u001B[1;32m      3\u001B[0m model_name \u001B[38;5;241m=\u001B[39m post_level_execution_config[\u001B[38;5;124m\"\u001B[39m\u001B[38;5;124mkwargs\u001B[39m\u001B[38;5;124m\"\u001B[39m][\u001B[38;5;124m\"\u001B[39m\u001B[38;5;124mmodel_name\u001B[39m\u001B[38;5;124m\"\u001B[39m] \u001B[38;5;66;03m# 'BertFineTuning' # post_level_execution_config[\"kwargs\"][args.model] # new_bert_fine_tuning\u001B[39;00m\n\u001B[1;32m      4\u001B[0m user2pred \u001B[38;5;241m=\u001B[39m pd\u001B[38;5;241m.\u001B[39mread_parquet(\u001B[38;5;124mf\u001B[39m\u001B[38;5;124m\"\u001B[39m\u001B[38;5;124mdetection/outputs/\u001B[39m\u001B[38;5;132;01m{\u001B[39;00mdataset\u001B[38;5;132;01m}\u001B[39;00m\u001B[38;5;124m/\u001B[39m\u001B[38;5;132;01m{\u001B[39;00mmodel_name\u001B[38;5;132;01m}\u001B[39;00m\u001B[38;5;124m/user_level/split_by_posts/no_text/\u001B[39m\u001B[38;5;124m\"\u001B[39m)\n\u001B[0;32m----> 5\u001B[0m user2pred[\u001B[38;5;124m'\u001B[39m\u001B[38;5;124muser_id\u001B[39m\u001B[38;5;124m'\u001B[39m] \u001B[38;5;241m=\u001B[39m \u001B[43muser2pred\u001B[49m\u001B[43m[\u001B[49m\u001B[38;5;124;43m'\u001B[39;49m\u001B[38;5;124;43muser_id\u001B[39;49m\u001B[38;5;124;43m'\u001B[39;49m\u001B[43m]\u001B[49m\u001B[38;5;241;43m.\u001B[39;49m\u001B[43mastype\u001B[49m\u001B[43m(\u001B[49m\u001B[38;5;28;43mint\u001B[39;49m\u001B[43m)\u001B[49m\n\u001B[1;32m      6\u001B[0m user2label_path \u001B[38;5;241m=\u001B[39m user_level_conf[dataset][\u001B[38;5;124m\"\u001B[39m\u001B[38;5;124mdata_path\u001B[39m\u001B[38;5;124m\"\u001B[39m]\n\u001B[1;32m      7\u001B[0m sep \u001B[38;5;241m=\u001B[39m \u001B[38;5;124m\"\u001B[39m\u001B[38;5;124m,\u001B[39m\u001B[38;5;124m\"\u001B[39m\n",
      "File \u001B[0;32m~/.conda/envs/eyal_hate_speech/lib/python3.9/site-packages/pandas/core/generic.py:5912\u001B[0m, in \u001B[0;36mNDFrame.astype\u001B[0;34m(self, dtype, copy, errors)\u001B[0m\n\u001B[1;32m   5905\u001B[0m     results \u001B[38;5;241m=\u001B[39m [\n\u001B[1;32m   5906\u001B[0m         \u001B[38;5;28mself\u001B[39m\u001B[38;5;241m.\u001B[39miloc[:, i]\u001B[38;5;241m.\u001B[39mastype(dtype, copy\u001B[38;5;241m=\u001B[39mcopy)\n\u001B[1;32m   5907\u001B[0m         \u001B[38;5;28;01mfor\u001B[39;00m i \u001B[38;5;129;01min\u001B[39;00m \u001B[38;5;28mrange\u001B[39m(\u001B[38;5;28mlen\u001B[39m(\u001B[38;5;28mself\u001B[39m\u001B[38;5;241m.\u001B[39mcolumns))\n\u001B[1;32m   5908\u001B[0m     ]\n\u001B[1;32m   5910\u001B[0m \u001B[38;5;28;01melse\u001B[39;00m:\n\u001B[1;32m   5911\u001B[0m     \u001B[38;5;66;03m# else, only a single dtype is given\u001B[39;00m\n\u001B[0;32m-> 5912\u001B[0m     new_data \u001B[38;5;241m=\u001B[39m \u001B[38;5;28;43mself\u001B[39;49m\u001B[38;5;241;43m.\u001B[39;49m\u001B[43m_mgr\u001B[49m\u001B[38;5;241;43m.\u001B[39;49m\u001B[43mastype\u001B[49m\u001B[43m(\u001B[49m\u001B[43mdtype\u001B[49m\u001B[38;5;241;43m=\u001B[39;49m\u001B[43mdtype\u001B[49m\u001B[43m,\u001B[49m\u001B[43m \u001B[49m\u001B[43mcopy\u001B[49m\u001B[38;5;241;43m=\u001B[39;49m\u001B[43mcopy\u001B[49m\u001B[43m,\u001B[49m\u001B[43m \u001B[49m\u001B[43merrors\u001B[49m\u001B[38;5;241;43m=\u001B[39;49m\u001B[43merrors\u001B[49m\u001B[43m)\u001B[49m\n\u001B[1;32m   5913\u001B[0m     \u001B[38;5;28;01mreturn\u001B[39;00m \u001B[38;5;28mself\u001B[39m\u001B[38;5;241m.\u001B[39m_constructor(new_data)\u001B[38;5;241m.\u001B[39m__finalize__(\u001B[38;5;28mself\u001B[39m, method\u001B[38;5;241m=\u001B[39m\u001B[38;5;124m\"\u001B[39m\u001B[38;5;124mastype\u001B[39m\u001B[38;5;124m\"\u001B[39m)\n\u001B[1;32m   5915\u001B[0m \u001B[38;5;66;03m# GH 33113: handle empty frame or series\u001B[39;00m\n",
      "File \u001B[0;32m~/.conda/envs/eyal_hate_speech/lib/python3.9/site-packages/pandas/core/internals/managers.py:419\u001B[0m, in \u001B[0;36mBaseBlockManager.astype\u001B[0;34m(self, dtype, copy, errors)\u001B[0m\n\u001B[1;32m    418\u001B[0m \u001B[38;5;28;01mdef\u001B[39;00m \u001B[38;5;21mastype\u001B[39m(\u001B[38;5;28mself\u001B[39m: T, dtype, copy: \u001B[38;5;28mbool\u001B[39m \u001B[38;5;241m=\u001B[39m \u001B[38;5;28;01mFalse\u001B[39;00m, errors: \u001B[38;5;28mstr\u001B[39m \u001B[38;5;241m=\u001B[39m \u001B[38;5;124m\"\u001B[39m\u001B[38;5;124mraise\u001B[39m\u001B[38;5;124m\"\u001B[39m) \u001B[38;5;241m-\u001B[39m\u001B[38;5;241m>\u001B[39m T:\n\u001B[0;32m--> 419\u001B[0m     \u001B[38;5;28;01mreturn\u001B[39;00m \u001B[38;5;28;43mself\u001B[39;49m\u001B[38;5;241;43m.\u001B[39;49m\u001B[43mapply\u001B[49m\u001B[43m(\u001B[49m\u001B[38;5;124;43m\"\u001B[39;49m\u001B[38;5;124;43mastype\u001B[39;49m\u001B[38;5;124;43m\"\u001B[39;49m\u001B[43m,\u001B[49m\u001B[43m \u001B[49m\u001B[43mdtype\u001B[49m\u001B[38;5;241;43m=\u001B[39;49m\u001B[43mdtype\u001B[49m\u001B[43m,\u001B[49m\u001B[43m \u001B[49m\u001B[43mcopy\u001B[49m\u001B[38;5;241;43m=\u001B[39;49m\u001B[43mcopy\u001B[49m\u001B[43m,\u001B[49m\u001B[43m \u001B[49m\u001B[43merrors\u001B[49m\u001B[38;5;241;43m=\u001B[39;49m\u001B[43merrors\u001B[49m\u001B[43m)\u001B[49m\n",
      "File \u001B[0;32m~/.conda/envs/eyal_hate_speech/lib/python3.9/site-packages/pandas/core/internals/managers.py:304\u001B[0m, in \u001B[0;36mBaseBlockManager.apply\u001B[0;34m(self, f, align_keys, ignore_failures, **kwargs)\u001B[0m\n\u001B[1;32m    302\u001B[0m         applied \u001B[38;5;241m=\u001B[39m b\u001B[38;5;241m.\u001B[39mapply(f, \u001B[38;5;241m*\u001B[39m\u001B[38;5;241m*\u001B[39mkwargs)\n\u001B[1;32m    303\u001B[0m     \u001B[38;5;28;01melse\u001B[39;00m:\n\u001B[0;32m--> 304\u001B[0m         applied \u001B[38;5;241m=\u001B[39m \u001B[38;5;28;43mgetattr\u001B[39;49m\u001B[43m(\u001B[49m\u001B[43mb\u001B[49m\u001B[43m,\u001B[49m\u001B[43m \u001B[49m\u001B[43mf\u001B[49m\u001B[43m)\u001B[49m\u001B[43m(\u001B[49m\u001B[38;5;241;43m*\u001B[39;49m\u001B[38;5;241;43m*\u001B[39;49m\u001B[43mkwargs\u001B[49m\u001B[43m)\u001B[49m\n\u001B[1;32m    305\u001B[0m \u001B[38;5;28;01mexcept\u001B[39;00m (\u001B[38;5;167;01mTypeError\u001B[39;00m, \u001B[38;5;167;01mNotImplementedError\u001B[39;00m):\n\u001B[1;32m    306\u001B[0m     \u001B[38;5;28;01mif\u001B[39;00m \u001B[38;5;129;01mnot\u001B[39;00m ignore_failures:\n",
      "File \u001B[0;32m~/.conda/envs/eyal_hate_speech/lib/python3.9/site-packages/pandas/core/internals/blocks.py:580\u001B[0m, in \u001B[0;36mBlock.astype\u001B[0;34m(self, dtype, copy, errors)\u001B[0m\n\u001B[1;32m    562\u001B[0m \u001B[38;5;250m\u001B[39m\u001B[38;5;124;03m\"\"\"\u001B[39;00m\n\u001B[1;32m    563\u001B[0m \u001B[38;5;124;03mCoerce to the new dtype.\u001B[39;00m\n\u001B[1;32m    564\u001B[0m \n\u001B[0;32m   (...)\u001B[0m\n\u001B[1;32m    576\u001B[0m \u001B[38;5;124;03mBlock\u001B[39;00m\n\u001B[1;32m    577\u001B[0m \u001B[38;5;124;03m\"\"\"\u001B[39;00m\n\u001B[1;32m    578\u001B[0m values \u001B[38;5;241m=\u001B[39m \u001B[38;5;28mself\u001B[39m\u001B[38;5;241m.\u001B[39mvalues\n\u001B[0;32m--> 580\u001B[0m new_values \u001B[38;5;241m=\u001B[39m \u001B[43mastype_array_safe\u001B[49m\u001B[43m(\u001B[49m\u001B[43mvalues\u001B[49m\u001B[43m,\u001B[49m\u001B[43m \u001B[49m\u001B[43mdtype\u001B[49m\u001B[43m,\u001B[49m\u001B[43m \u001B[49m\u001B[43mcopy\u001B[49m\u001B[38;5;241;43m=\u001B[39;49m\u001B[43mcopy\u001B[49m\u001B[43m,\u001B[49m\u001B[43m \u001B[49m\u001B[43merrors\u001B[49m\u001B[38;5;241;43m=\u001B[39;49m\u001B[43merrors\u001B[49m\u001B[43m)\u001B[49m\n\u001B[1;32m    582\u001B[0m new_values \u001B[38;5;241m=\u001B[39m maybe_coerce_values(new_values)\n\u001B[1;32m    583\u001B[0m newb \u001B[38;5;241m=\u001B[39m \u001B[38;5;28mself\u001B[39m\u001B[38;5;241m.\u001B[39mmake_block(new_values)\n",
      "File \u001B[0;32m~/.conda/envs/eyal_hate_speech/lib/python3.9/site-packages/pandas/core/dtypes/cast.py:1292\u001B[0m, in \u001B[0;36mastype_array_safe\u001B[0;34m(values, dtype, copy, errors)\u001B[0m\n\u001B[1;32m   1289\u001B[0m     dtype \u001B[38;5;241m=\u001B[39m dtype\u001B[38;5;241m.\u001B[39mnumpy_dtype\n\u001B[1;32m   1291\u001B[0m \u001B[38;5;28;01mtry\u001B[39;00m:\n\u001B[0;32m-> 1292\u001B[0m     new_values \u001B[38;5;241m=\u001B[39m \u001B[43mastype_array\u001B[49m\u001B[43m(\u001B[49m\u001B[43mvalues\u001B[49m\u001B[43m,\u001B[49m\u001B[43m \u001B[49m\u001B[43mdtype\u001B[49m\u001B[43m,\u001B[49m\u001B[43m \u001B[49m\u001B[43mcopy\u001B[49m\u001B[38;5;241;43m=\u001B[39;49m\u001B[43mcopy\u001B[49m\u001B[43m)\u001B[49m\n\u001B[1;32m   1293\u001B[0m \u001B[38;5;28;01mexcept\u001B[39;00m (\u001B[38;5;167;01mValueError\u001B[39;00m, \u001B[38;5;167;01mTypeError\u001B[39;00m):\n\u001B[1;32m   1294\u001B[0m     \u001B[38;5;66;03m# e.g. astype_nansafe can fail on object-dtype of strings\u001B[39;00m\n\u001B[1;32m   1295\u001B[0m     \u001B[38;5;66;03m#  trying to convert to float\u001B[39;00m\n\u001B[1;32m   1296\u001B[0m     \u001B[38;5;28;01mif\u001B[39;00m errors \u001B[38;5;241m==\u001B[39m \u001B[38;5;124m\"\u001B[39m\u001B[38;5;124mignore\u001B[39m\u001B[38;5;124m\"\u001B[39m:\n",
      "File \u001B[0;32m~/.conda/envs/eyal_hate_speech/lib/python3.9/site-packages/pandas/core/dtypes/cast.py:1237\u001B[0m, in \u001B[0;36mastype_array\u001B[0;34m(values, dtype, copy)\u001B[0m\n\u001B[1;32m   1234\u001B[0m     values \u001B[38;5;241m=\u001B[39m values\u001B[38;5;241m.\u001B[39mastype(dtype, copy\u001B[38;5;241m=\u001B[39mcopy)\n\u001B[1;32m   1236\u001B[0m \u001B[38;5;28;01melse\u001B[39;00m:\n\u001B[0;32m-> 1237\u001B[0m     values \u001B[38;5;241m=\u001B[39m \u001B[43mastype_nansafe\u001B[49m\u001B[43m(\u001B[49m\u001B[43mvalues\u001B[49m\u001B[43m,\u001B[49m\u001B[43m \u001B[49m\u001B[43mdtype\u001B[49m\u001B[43m,\u001B[49m\u001B[43m \u001B[49m\u001B[43mcopy\u001B[49m\u001B[38;5;241;43m=\u001B[39;49m\u001B[43mcopy\u001B[49m\u001B[43m)\u001B[49m\n\u001B[1;32m   1239\u001B[0m \u001B[38;5;66;03m# in pandas we don't store numpy str dtypes, so convert to object\u001B[39;00m\n\u001B[1;32m   1240\u001B[0m \u001B[38;5;28;01mif\u001B[39;00m \u001B[38;5;28misinstance\u001B[39m(dtype, np\u001B[38;5;241m.\u001B[39mdtype) \u001B[38;5;129;01mand\u001B[39;00m \u001B[38;5;28missubclass\u001B[39m(values\u001B[38;5;241m.\u001B[39mdtype\u001B[38;5;241m.\u001B[39mtype, \u001B[38;5;28mstr\u001B[39m):\n",
      "File \u001B[0;32m~/.conda/envs/eyal_hate_speech/lib/python3.9/site-packages/pandas/core/dtypes/cast.py:1154\u001B[0m, in \u001B[0;36mastype_nansafe\u001B[0;34m(arr, dtype, copy, skipna)\u001B[0m\n\u001B[1;32m   1150\u001B[0m \u001B[38;5;28;01melif\u001B[39;00m is_object_dtype(arr\u001B[38;5;241m.\u001B[39mdtype):\n\u001B[1;32m   1151\u001B[0m \n\u001B[1;32m   1152\u001B[0m     \u001B[38;5;66;03m# work around NumPy brokenness, #1987\u001B[39;00m\n\u001B[1;32m   1153\u001B[0m     \u001B[38;5;28;01mif\u001B[39;00m np\u001B[38;5;241m.\u001B[39missubdtype(dtype\u001B[38;5;241m.\u001B[39mtype, np\u001B[38;5;241m.\u001B[39minteger):\n\u001B[0;32m-> 1154\u001B[0m         \u001B[38;5;28;01mreturn\u001B[39;00m \u001B[43mlib\u001B[49m\u001B[38;5;241;43m.\u001B[39;49m\u001B[43mastype_intsafe\u001B[49m\u001B[43m(\u001B[49m\u001B[43marr\u001B[49m\u001B[43m,\u001B[49m\u001B[43m \u001B[49m\u001B[43mdtype\u001B[49m\u001B[43m)\u001B[49m\n\u001B[1;32m   1156\u001B[0m     \u001B[38;5;66;03m# if we have a datetime/timedelta array of objects\u001B[39;00m\n\u001B[1;32m   1157\u001B[0m     \u001B[38;5;66;03m# then coerce to a proper dtype and recall astype_nansafe\u001B[39;00m\n\u001B[1;32m   1159\u001B[0m     \u001B[38;5;28;01melif\u001B[39;00m is_datetime64_dtype(dtype):\n",
      "File \u001B[0;32m~/.conda/envs/eyal_hate_speech/lib/python3.9/site-packages/pandas/_libs/lib.pyx:668\u001B[0m, in \u001B[0;36mpandas._libs.lib.astype_intsafe\u001B[0;34m()\u001B[0m\n",
      "\u001B[0;31mValueError\u001B[0m: invalid literal for int() with base 10: 'Rob0303'"
     ]
    }
   ],
   "source": [
    "dataset = user_level_execution_config[\"inference_data\"]\n",
    "logger.info(f\"executing dataset {dataset}...\")\n",
    "model_name = post_level_execution_config[\"kwargs\"][\"model_name\"] # 'BertFineTuning' # post_level_execution_config[\"kwargs\"][args.model] # new_bert_fine_tuning\n",
    "user2pred = pd.read_parquet(f\"detection/outputs/{dataset}/{model_name}/user_level/split_by_posts/no_text/\")\n",
    "user2pred['user_id'] = user2pred['user_id'].astype(int)\n",
    "user2label_path = user_level_conf[dataset][\"data_path\"]\n",
    "sep = \",\"\n",
    "if user2label_path.endswith(\"tsv\"):\n",
    "    sep = \"\\t\"\n",
    "y = pd.read_csv(user2label_path, sep=sep, index_col=[0]).squeeze()\n",
    "# user2pred = user2pred[user2pred['user_id'].isin(labeled_users.index)]\n",
    "X = user2pred[user2pred['user_id'].isin(y.index)]\n",
    "seed = random.randrange(2 ** 32)\n",
    "# seed = 2334642105 #42 #338761188\n",
    "\n",
    "predictions_output_path = os.path.join(post_level_execution_config[\"evaluation\"][\"output_path\"], 'predictions.tsv')\n",
    "predictions_df = pd.read_csv(predictions_output_path, sep='\\t')\n",
    "y_true = predictions_df['y_true']\n",
    "y_prob = predictions_df['y_score']\n",
    "y_pred = predictions_df['y_pred']\n",
    "\n",
    "print(\"Seed is:\", seed)\n",
    "# for method in args.methods:\n",
    "#     method(X, y, dataset=dataset\n",
    "# fixed_threshold_num_of_posts(user2pred, labeled_users, output_path, dataset, test_ratio=0.2, random_state=seed)\n",
    "# relational_threshold(user2pred, labeled_users, output_path, dataset, test_ratio=0.2, random_state=seed)\n",
    "# dynamic_threshold_hs_score(user2pred, labeled_users, output_path, test_ratio=0.2, random_state=seed)"
   ]
  },
  {
   "cell_type": "code",
   "execution_count": 400,
   "metadata": {},
   "outputs": [
    {
     "data": {
      "text/plain": [
       "0.35367036"
      ]
     },
     "execution_count": 400,
     "metadata": {},
     "output_type": "execute_result"
    }
   ],
   "source": [
    "optimal_threshold(y_true, y_prob)"
   ]
  },
  {
   "cell_type": "code",
   "execution_count": 141,
   "metadata": {},
   "outputs": [],
   "source": [
    "post_threshold = optimal_threshold(y_true, y_prob)\n",
    "user_hs_count = user2pred.set_index('user_id').eval('`predictions`>@post_threshold').groupby('user_id').sum().rename('hs_count')"
   ]
  },
  {
   "cell_type": "code",
   "execution_count": 127,
   "metadata": {},
   "outputs": [],
   "source": [
    "user_mean_preds = user2pred.groupby('user_id').predictions.mean().rename('mean_preds')"
   ]
  },
  {
   "cell_type": "raw",
   "metadata": {},
   "source": [
    "# dataset = user_level_execution_config[\"inference_data\"]\n",
    "logger.info(f\"executing dataset {args.dataset}...\")\n",
    "model_name = post_level_execution_config[\"kwargs\"][args.model] # new_bert_fine_tuning\n",
    "user2pred = pd.read_parquet(f\"detection/outputs/{args.dataset}/{args.model}/user_level/split_by_posts/no_text/\")\n",
    "user2pred['user_id'] = user2pred['user_id'].astype(int)\n",
    "user2label_path = user_level_conf[args.dataset][\"data_path\"]\n",
    "sep = \",\"\n",
    "if user2label_path.endswith(\"tsv\"):\n",
    "    sep = \"\\t\"\n",
    "y = pd.read_csv(user2label_path, sep=sep, index_col=[0]).squeeze()\n",
    "# user2pred = user2pred[user2pred['user_id'].isin(labeled_users.index)]\n",
    "X = user2pred[user2pred['user_id'].isin(y.index)]\n",
    "seed = random.randrange(2 ** 32)\n",
    "# seed = 2334642105 #42 #338761188\n",
    "\n",
    "predictions_output_path = os.path.join(post_level_execution_config[\"evaluation\"][\"output_path\"], 'predictions.tsv')\n",
    "predictions_df = pd.read_csv(predictions_output_path, sep='\\t')\n",
    "y_true = predictions_df['y_true']\n",
    "y_prob = predictions_df['y_score']\n",
    "y_pred = predictions_df['y_pred']\n",
    "\n",
    "print(\"Seed is:\", seed)\n",
    "# fixed_threshold_num_of_posts(user2pred, labeled_users, output_path, dataset, test_ratio=0.2, random_state=seed)\n",
    "# relational_threshold(user2pred, labeled_users, output_path, dataset, test_ratio=0.2, random_state=seed)\n",
    "# dynamic_threshold_hs_score(user2pred, labeled_users, output_path, test_ratio=0.2, random_state=seed)"
   ]
  }
 ],
 "metadata": {
  "anaconda-cloud": {},
  "kernelspec": {
   "display_name": "eyal_hate_speech",
   "language": "python",
   "name": "eyal_hate_speech"
  },
  "language_info": {
   "codemirror_mode": {
    "name": "ipython",
    "version": 3
   },
   "file_extension": ".py",
   "mimetype": "text/x-python",
   "name": "python",
   "nbconvert_exporter": "python",
   "pygments_lexer": "ipython3",
   "version": "3.9.13"
  }
 },
 "nbformat": 4,
 "nbformat_minor": 4
}
