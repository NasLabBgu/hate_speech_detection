{
 "cells": [
  {
   "cell_type": "markdown",
   "id": "7db4cecd-53ce-4cd9-afc7-3fb62667c64c",
   "metadata": {},
   "source": [
    "# Imports"
   ]
  },
  {
   "cell_type": "code",
   "execution_count": 1,
   "id": "cda496b4-18f5-49ab-9aea-078e94dc68cb",
   "metadata": {},
   "outputs": [
    {
     "name": "stderr",
     "output_type": "stream",
     "text": [
      "/home/tommarz/.conda/envs/gnn/lib/python3.8/site-packages/tqdm/auto.py:21: TqdmWarning: IProgress not found. Please update jupyter and ipywidgets. See https://ipywidgets.readthedocs.io/en/stable/user_install.html\n",
      "  from .autonotebook import tqdm as notebook_tqdm\n"
     ]
    }
   ],
   "source": [
    "import torch\n",
    "import torch.nn as nn\n",
    "import torch.optim as optim\n",
    "from torch.utils.data import DataLoader\n",
    "from torch_geometric.data import Data\n",
    "from torch_geometric.nn import Node2Vec\n",
    "from torch_geometric.utils import to_networkx, from_networkx\n",
    "from gensim.models import Word2Vec\n",
    "import numpy as np\n",
    "import networkx as nx\n",
    "import pandas as pd\n",
    "import pickle\n",
    "import os\n",
    "import sys\n",
    "import logging\n",
    "import random\n",
    "import igraph as ig"
   ]
  },
  {
   "cell_type": "code",
   "execution_count": 2,
   "id": "2209b8af-b0d1-465d-8df2-0c3b8736fd16",
   "metadata": {},
   "outputs": [
    {
     "data": {
      "text/plain": [
       "'/sise/home/tommarz/hate_speech_detection'"
      ]
     },
     "execution_count": 2,
     "metadata": {},
     "output_type": "execute_result"
    }
   ],
   "source": [
    "os.chdir('/sise/home/tommarz/hate_speech_detection/')\n",
    "main_dir = os.getcwd()\n",
    "main_dir"
   ]
  },
  {
   "cell_type": "code",
   "execution_count": 3,
   "id": "b2c9177e-f8fc-4598-9995-26868c0eedd0",
   "metadata": {},
   "outputs": [],
   "source": [
    "from config.detection_config import user_level_execution_config, user_level_conf, post_level_execution_config\n",
    "from scipy.optimize import minimize\n",
    "from utils.my_timeit import timeit\n",
    "from utils.general import init_log\n",
    "\n",
    "# import optuna\n",
    "# optuna.logging.set_verbosity(optuna.logging.WARNING)\n",
    "# sampler = optuna.samplers.TPESampler(seed=0, multivariate=True, group=True, warn_independent_sampling=False ,**optuna.samplers.TPESampler.hyperopt_parameters())\n",
    "\n",
    "# logger = init_log(\"user_level_simple_models\")"
   ]
  },
  {
   "cell_type": "markdown",
   "id": "993764eb-3827-4862-83c5-d64edcf5b2f0",
   "metadata": {
    "vscode": {
     "languageId": "raw"
    }
   },
   "source": [
    "# Choose Dataset"
   ]
  },
  {
   "cell_type": "code",
   "execution_count": 34,
   "id": "33512a45-f3bd-406d-9818-e8afab91aba5",
   "metadata": {},
   "outputs": [],
   "source": [
    "dataset_name = 'parler'"
   ]
  },
  {
   "cell_type": "code",
   "execution_count": 35,
   "id": "882d3dcd-2872-495c-83c1-a1c4e55b8e09",
   "metadata": {},
   "outputs": [
    {
     "data": {
      "text/plain": [
       "'/sise/home/tommarz/hate_speech_detection/detection/gnn'"
      ]
     },
     "execution_count": 35,
     "metadata": {},
     "output_type": "execute_result"
    }
   ],
   "source": [
    "network_output_dir = \"/sise/home/tommarz/hate_speech_detection/data/networks_data\"\n",
    "raw_graphs_dict_path = os.path.join(network_output_dir, \"raw_graphs_dict.p\")\n",
    "network_dataset_output_dir = os.path.join(network_output_dir, dataset_name)\n",
    "raw_network_path  = os.path.join(network_dataset_output_dir, \"raw_network.p\")\n",
    "largest_cc_path  = os.path.join(network_dataset_output_dir, \"largest_cc.p\")\n",
    "gnn_path = os.path.join(main_dir, 'detection', 'gnn')\n",
    "gnn_path"
   ]
  },
  {
   "cell_type": "code",
   "execution_count": 36,
   "id": "b972899b-0f1a-49f0-9c81-f71af356ea76",
   "metadata": {},
   "outputs": [
    {
     "data": {
      "text/plain": [
       "'/sise/home/tommarz/hate_speech_detection/data/networks_data/parler/largest_cc.p'"
      ]
     },
     "execution_count": 36,
     "metadata": {},
     "output_type": "execute_result"
    }
   ],
   "source": [
    "largest_cc_path"
   ]
  },
  {
   "cell_type": "markdown",
   "id": "96043809-dc40-4883-8904-489a98582df2",
   "metadata": {},
   "source": [
    "# Load Dataset (Graph)"
   ]
  },
  {
   "cell_type": "code",
   "execution_count": null,
   "id": "43350e12-5ca1-46e4-8cb1-6939a3a30442",
   "metadata": {},
   "outputs": [],
   "source": [
    "with open(largest_cc_path, 'rb') as f:\n",
    "    largest_cc = pickle.load(f)\n",
    "largest_cc.summary()"
   ]
  },
  {
   "cell_type": "code",
   "execution_count": null,
   "id": "92e45023-e81c-4170-9d2f-a58e56f0619b",
   "metadata": {},
   "outputs": [],
   "source": [
    "g = largest_cc.copy()\n",
    "g.reverse_edges()"
   ]
  },
  {
   "cell_type": "raw",
   "id": "f8e8d691-5a36-4691-b5c6-8b52e48a62fe",
   "metadata": {},
   "source": [
    "g.to_undirected(combine_edges=np.sum)"
   ]
  },
  {
   "cell_type": "code",
   "execution_count": null,
   "id": "76ed88e6-ff51-495d-9bc0-4b7f119f8571",
   "metadata": {},
   "outputs": [],
   "source": [
    "labeled_nodes = g.vs.select(lambda v: v['label'] != -1)\n",
    "len(labeled_nodes)"
   ]
  },
  {
   "cell_type": "code",
   "execution_count": null,
   "id": "980bc934-7829-4860-8fab-e7771cbfcc2d",
   "metadata": {},
   "outputs": [],
   "source": [
    "y = pd.Series(labeled_nodes['label'], index=labeled_nodes['name'])\n",
    "y"
   ]
  },
  {
   "cell_type": "markdown",
   "id": "05ecf54f-b951-4e72-9de3-71e5695880a2",
   "metadata": {},
   "source": [
    "# Build Torch Geometric Dataset"
   ]
  },
  {
   "cell_type": "code",
   "execution_count": null,
   "id": "5e10ef37-924b-4a92-8151-1704cdaa85df",
   "metadata": {},
   "outputs": [],
   "source": [
    "import torch\n",
    "from torch_geometric.data import Data\n",
    "\n",
    "# Extract the edge list\n",
    "edge_list = torch.tensor([edge.tuple for edge in g.es], dtype=torch.long).t().contiguous()\n",
    "edge_weight = torch.tensor([edge['weight'] for edge in g.es]).t().contiguous()\n",
    "\n",
    "# Optional: Create a feature matrix\n",
    "features = torch.tensor(np.array(g.vs['doc2vec']), dtype=torch.float)  # Adjust shape if necessary\n",
    "\n",
    "target = torch.tensor(np.array(g.vs['label']), dtype=torch.long)  # Adjust shape if necessary\n",
    "\n",
    "# Create a PyTorch Geometric data object\n",
    "dataset = Data(x=features, edge_index=edge_list, edge_weight=edge_weight, num_nodes=g.vcount(), y=target, name=dataset_name)\n",
    "dataset.num_classes = len(dataset.y.unique())-1 # Cause of unlabled nodes\n",
    "dataset.num_nodes = len(dataset.x) # Cause of unlabled nodes\n",
    "dataset"
   ]
  },
  {
   "cell_type": "markdown",
   "id": "84f2a8a9-6e26-4467-9dd6-798b035d500e",
   "metadata": {},
   "source": [
    "# Create Train, Validation and Test Splits"
   ]
  },
  {
   "cell_type": "code",
   "execution_count": null,
   "id": "6cb5ecee-3855-4527-b339-cd8b811b9a2f",
   "metadata": {},
   "outputs": [],
   "source": [
    "from sklearn.model_selection import StratifiedKFold, train_test_split"
   ]
  },
  {
   "cell_type": "code",
   "execution_count": null,
   "id": "91988123-9ece-4202-be28-bf570ffc1fdf",
   "metadata": {},
   "outputs": [],
   "source": [
    "seed = 0\n",
    "np.random.seed(seed)\n",
    "# seeds = np.random.randint(0, 2**32, 5)\n",
    "n_splits = 5\n",
    "train_size = 1- 1/n_splits"
   ]
  },
  {
   "cell_type": "code",
   "execution_count": null,
   "id": "e46339ff-aa88-40d7-a3de-0842c896e6b4",
   "metadata": {},
   "outputs": [],
   "source": [
    "# Ensures that CUDA operations are reproducible\n",
    "torch.manual_seed(seed)\n",
    "torch.cuda.manual_seed(seed)\n",
    "torch.cuda.manual_seed_all(seed)  # For multi-GPU setups\n",
    "np.random.seed(seed)\n",
    "random.seed(seed)\n",
    "\n",
    "X = dataset.x[target!=-1]\n",
    "num_nodes = dataset.num_nodes\n",
    "\n",
    "labeled_indices = (dataset.y != -1).nonzero(as_tuple=True)[0]\n",
    "\n",
    "assert((g.vs[labeled_indices]['name'] == y.index).all())\n",
    "\n",
    "assert((y.values == dataset.y[labeled_indices].numpy()).all())\n",
    "\n",
    "y = dataset.y[labeled_indices]\n",
    "\n",
    "kfold = StratifiedKFold(n_splits=n_splits, shuffle=True, random_state=seed)\n",
    "\n",
    "folds = []\n",
    "\n",
    "for train_indices, test_indices in kfold.split(labeled_indices, y):\n",
    "    \n",
    "    torch.cuda.manual_seed(seed)\n",
    "    torch.cuda.manual_seed_all(seed)  # if you are using more than one GPU\n",
    "    np.random.seed(seed)\n",
    "    random.seed(seed)\n",
    "\n",
    "#     train_indices = labeled_indices[randperm[:num_train]]\n",
    "#     test_indices = labeled_indices[randperm[num_train:]]\n",
    "\n",
    "    train_mask = torch.zeros(num_nodes, dtype=torch.bool)\n",
    "    test_mask = torch.zeros(num_nodes, dtype=torch.bool)\n",
    "\n",
    "    train_mask[labeled_indices[train_indices]] = True\n",
    "    test_mask[labeled_indices[test_indices]] = True\n",
    "\n",
    "    # Ensure no overlap (for sanity check)\n",
    "    assert torch.logical_and(train_mask[labeled_indices], test_mask[labeled_indices]).sum() == 0\n",
    "\n",
    "    folds.append([train_mask, test_mask])"
   ]
  },
  {
   "cell_type": "markdown",
   "id": "7df656ec-5125-47c5-9709-f5dfc32246e3",
   "metadata": {},
   "source": [
    "# GCN"
   ]
  },
  {
   "cell_type": "code",
   "execution_count": null,
   "id": "e25299c9-4f08-48d1-afb5-ddc5098cabfe",
   "metadata": {},
   "outputs": [],
   "source": [
    "from sklearn.metrics import roc_auc_score, f1_score, accuracy_score, precision_score, recall_score"
   ]
  },
  {
   "cell_type": "code",
   "execution_count": null,
   "id": "f6e4e773-b812-4895-babe-ede2b2b1f1ac",
   "metadata": {},
   "outputs": [],
   "source": [
    "scorers = [precision_score, recall_score, f1_score, roc_auc_score]\n",
    "scorer_names = ['_'.join(s.__name__.split('_')[:-1]) for s in scorers]\n",
    "scorer_names"
   ]
  },
  {
   "cell_type": "code",
   "execution_count": null,
   "id": "1141d4f0-787d-4e55-966b-204fd26d2e10",
   "metadata": {},
   "outputs": [],
   "source": [
    "from torch_geometric.nn import GCNConv, AGNNConv, GINConv, GCN, GIN, GINConv, GAT, GATConv, GraphSAGE, ARGA\n",
    "from torch_geometric.nn.models import LightGCN, GCN, ARGA, ARGVA, GIN, GAE, GAT, GraphSAGE, GNNFF, VGAE, PNA\n",
    "from torch_geometric.nn.models.basic_gnn import BasicGNN\n",
    "from torch_geometric.nn.models import LabelPropagation\n",
    "\n",
    "from torch_geometric.nn.conv import (\n",
    "    EdgeConv,\n",
    "    GATConv,\n",
    "    GATv2Conv,\n",
    "    GCNConv,\n",
    "    GINConv,\n",
    "    MessagePassing,\n",
    "    PNAConv,\n",
    "    SAGEConv,\n",
    ")\n",
    "\n",
    "import torch.nn.functional as F"
   ]
  },
  {
   "cell_type": "code",
   "execution_count": null,
   "id": "5c387af4-b930-4942-b48b-b27bf7bec6d0",
   "metadata": {},
   "outputs": [],
   "source": [
    "from typing import Any, Callable, Dict, Final, List, Optional, Tuple, Union\n",
    "\n",
    "class AGNN(BasicGNN):\n",
    "    \n",
    "    supports_edge_weight: Final[bool] = False\n",
    "    supports_edge_attr: Final[bool] = False\n",
    "    supports_norm_batch: Final[bool]\n",
    "    \n",
    "    def init_conv(self, in_channels: int, out_channels: int, **kwargs) -> MessagePassing:\n",
    "        return AGNNConv(requires_grad=True)\n",
    "    \n",
    "#     def forward(self, x, edge_index):\n",
    "        \n",
    "#         self.lin1 = torch.nn.Linear(self.in_channels, self.hidden_channels)\n",
    "#         self.prop1 = AGNNConv(requires_grad=True)\n",
    "#         self.lin2 = torch.nn.Linear(self.hidden_channels, self.out_channels)\n",
    "#         x = F.dropout(x, training=self.training)\n",
    "#         x = F.relu(self.lin1(x))\n",
    "#         x = self.prop1(x, edge_index)\n",
    "#         x = F.dropout(x, training=self.training)\n",
    "#         x = self.lin2(x)\n",
    "#         return F.log_softmax(x, dim=1)"
   ]
  },
  {
   "cell_type": "code",
   "execution_count": null,
   "id": "2fd9470f-1c9f-4aaf-bc27-b7516e7def2a",
   "metadata": {},
   "outputs": [],
   "source": [
    "print(\"AGNN\")\n",
    "class AGNN(torch.nn.Module):\n",
    "    def __init__(self, in_channels, hidden_channels=32, dropout=0.5, out_channels=2, num_layers=1):\n",
    "        super(AGNN, self).__init__()\n",
    "        self.num_layers = num_layers\n",
    "        self.lin1 = torch.nn.Linear(in_channels, hidden_channels)\n",
    "        self.prop1 = AGNNConv(requires_grad=True)\n",
    "        self.lin2 = torch.nn.Linear(hidden_channels, out_channels)\n",
    "        self.dropout = dropout\n",
    "        self.num_layers\n",
    "\n",
    "    def forward(self, x, edge_index, edge_weight=None):\n",
    "        for i in range(self.num_layers):\n",
    "            x = F.dropout(x, training=self.training, p=self.dropout)\n",
    "            x = F.relu(self.lin1(x))\n",
    "            x = self.prop1(x, edge_index)\n",
    "        x = F.dropout(x, training=self.training, p=self.dropout)\n",
    "        x = self.lin2(x)\n",
    "        return F.log_softmax(x, dim=1)"
   ]
  },
  {
   "cell_type": "code",
   "execution_count": null,
   "id": "5778f902-d068-422a-a839-980135f933c8",
   "metadata": {},
   "outputs": [],
   "source": [
    "print(\"Cheby\")\n",
    "class Cheby(torch.nn.Module):\n",
    "    def __init__(self, in_channels, hidden_channels=32, dropout=0.2, out_channels=2, num_layers=1):\n",
    "        super(Cheby, self).__init__()\n",
    "        self.conv1 = ChebConv(in_channels, hidden_channels, K=1)\n",
    "        self.conv2 = ChebConv(hidden_channels, out_channels, K=1)\n",
    "        self.dropout = dropout\n",
    "        \n",
    "    def forward(self, x, edge_index, edge_weight=None):\n",
    "        x = F.relu(self.conv1(x, edge_index))\n",
    "        x = F.dropout(x, self.dropout)\n",
    "        x = self.conv2(x, edge_index)\n",
    "        return F.log_softmax(x, dim=1)"
   ]
  },
  {
   "cell_type": "code",
   "execution_count": null,
   "id": "6f013b2e-6d5a-4748-9910-9f7f1c23d64d",
   "metadata": {},
   "outputs": [],
   "source": [
    "print(\"GCN\")\n",
    "class GCN(torch.nn.Module):\n",
    "    def __init__(self, in_channels, hidden_channels=32, out_channels=2, num_layers=1, dropout=0.2):\n",
    "        super(GCN, self).__init__()\n",
    "        self.conv1 = GCNConv(in_channels, hidden_channels)\n",
    "        self.conv2 = GCNConv(hidden_channels, out_channels)\n",
    "        self.dropout = dropout\n",
    "        \n",
    "    def forward(self, x, edge_index, edge_weight=None):\n",
    "        x = F.relu(self.conv1(x, edge_index))\n",
    "        x = F.dropout(x, self.dropout)\n",
    "        x = self.conv2(x, edge_index)\n",
    "        return F.log_softmax(x, dim=1)"
   ]
  },
  {
   "cell_type": "code",
   "execution_count": null,
   "id": "a9458b67-28d0-42e1-af11-9eb38c161e35",
   "metadata": {},
   "outputs": [],
   "source": [
    "print(\"GAT conv\")\n",
    "class GAT(torch.nn.Module):\n",
    "    def __init__(self, in_channels, hidden_channels=32, out_channels=2, num_layers=1, dropout=0.2, heads=2):\n",
    "        super(GAT, self).__init__()\n",
    "        self.conv1 = GATConv(in_channels, hidden_channels, heads=heads, concat=True)\n",
    "        self.conv2 = GATConv(heads * hidden_channels, out_channels, heads=heads, concat=False)\n",
    "        self.dropout = dropout\n",
    "\n",
    "    def forward(self, x, edge_index, edge_weight=None):\n",
    "        x = self.conv1(x, edge_index)\n",
    "        x = F.relu(x)\n",
    "        x = F.dropout(x, self.dropout)\n",
    "        x = self.conv2(x, edge_index)\n",
    "        return x.log_softmax(dim=1)"
   ]
  },
  {
   "cell_type": "raw",
   "id": "ec7714cd-ea5c-45d6-a20a-123557c69d3b",
   "metadata": {},
   "source": [
    "class GCN(torch.nn.Module):\n",
    "    def __init__(self, num_features, num_classes, num_hidden=16, dropout_p=0.5):\n",
    "        super(GCN, self).__init__()\n",
    "        self.conv1 = GCNConv(num_features, num_hidden)\n",
    "        self.conv2 = GCNConv(num_hidden, num_classes)\n",
    "        self.dropout_p = dropout_p\n",
    "\n",
    "    def forward(self, x, edge_index):\n",
    "\n",
    "        # First layer\n",
    "        x = self.conv1(x, edge_index)\n",
    "        x = F.relu(x)\n",
    "        x = F.dropout(x, p=self.dropout_p, training=self.training)\n",
    "        \n",
    "        # Second layer\n",
    "        x = self.conv2(x, edge_index)\n",
    "        \n",
    "        return F.log_softmax(x, dim=1)"
   ]
  },
  {
   "cell_type": "code",
   "execution_count": null,
   "id": "16e1eff0-4da9-4102-84cb-800ff956244a",
   "metadata": {},
   "outputs": [],
   "source": [
    "device = torch.device('cuda' if torch.cuda.is_available() else 'cpu')\n",
    "print(device)\n",
    "data = dataset.to(device)\n",
    "data"
   ]
  },
  {
   "cell_type": "raw",
   "id": "53cf1b50-9f4a-4e1d-8cc1-86e0758551b0",
   "metadata": {},
   "source": [
    "gcn = GCN(data.num_features, data.num_classes, num_layers=2)\n",
    "gat = GAT(data.num_features, hidden_channels=16, num_layers=2)\n",
    "agnn = AGNN(data.num_features, hidden_channels=16, num_layers=2)"
   ]
  },
  {
   "cell_type": "markdown",
   "id": "32131299-cd23-46e3-9e18-22af94d8b7b4",
   "metadata": {},
   "source": [
    "## Train"
   ]
  },
  {
   "cell_type": "code",
   "execution_count": null,
   "id": "887156bd-f313-427c-8bd3-cb1adebdb5d6",
   "metadata": {},
   "outputs": [],
   "source": [
    "gnn_params = {\n",
    "    'in_channels': data.num_features,\n",
    "    'hidden_channels': 16,\n",
    "    'num_layers': 1, \n",
    "    'out_channels': data.num_classes,\n",
    "    # 'dropout': 0.5\n",
    "}\n",
    "\n",
    "n_epochs = 5"
   ]
  },
  {
   "cell_type": "code",
   "execution_count": null,
   "id": "a12197a4-b4c1-41a7-9300-04dc5a19d7d3",
   "metadata": {},
   "outputs": [],
   "source": [
    "for fold in folds:\n",
    "    train_mask, test_mask = fold\n",
    "    print(np.mean(y[train_mask[labeled_indices]].numpy()), np.mean(y[test_mask[labeled_indices]].numpy()))"
   ]
  },
  {
   "cell_type": "code",
   "execution_count": null,
   "id": "3766d69a-ba6e-4486-ad0d-7db11b8caf8e",
   "metadata": {},
   "outputs": [],
   "source": [
    "from sklearn.utils.class_weight import compute_class_weight\n",
    "class_weight = torch.Tensor(compute_class_weight(class_weight='balanced', classes=np.unique(data.y[train_mask].cpu()), y=data.y[train_mask].cpu().numpy()))\n",
    "class_weight"
   ]
  },
  {
   "cell_type": "code",
   "execution_count": null,
   "id": "9fefdf51-e925-4953-aca4-1b47d6f0c635",
   "metadata": {},
   "outputs": [],
   "source": [
    "criterion = F.nll_loss\n",
    "# criterion = F.cross_entropy"
   ]
  },
  {
   "cell_type": "raw",
   "id": "2eba716b-5a5e-468f-99c1-72c3dca28af9",
   "metadata": {},
   "source": [
    "data.edge_index = data.edge_index.to(device)\n",
    "data.edge_weight = data.edge_weight.to(device)"
   ]
  },
  {
   "cell_type": "code",
   "execution_count": null,
   "id": "646fb253-5c2c-4cf0-9e84-202c0adde2cf",
   "metadata": {},
   "outputs": [],
   "source": [
    "gnn_dataset_dir = os.path.join(gnn_path, dataset_name)\n",
    "if not os.path.exists(gnn_dataset_dir):\n",
    "    os.mkdir(gnn_dataset_dir)\n",
    "\n",
    "gnn_models_dir = os.path.join(gnn_dataset_dir, 'models')\n",
    "if not os.path.exists(gnn_models_dir):\n",
    "    os.mkdir(gnn_models_dir)\n",
    "\n",
    "gnn_results_dir = os.path.join(gnn_dataset_dir, 'results')\n",
    "if not os.path.exists(gnn_results_dir):\n",
    "    os.mkdir(gnn_results_dir)"
   ]
  },
  {
   "cell_type": "code",
   "execution_count": null,
   "id": "1d278949-6660-41fa-9362-e8d07659f3d0",
   "metadata": {
    "tags": []
   },
   "outputs": [],
   "source": [
    "torch.manual_seed(seed)\n",
    "torch.cuda.manual_seed(seed)\n",
    "torch.cuda.manual_seed_all(seed)  # For multi-GPU setups\n",
    "np.random.seed(seed)\n",
    "random.seed(seed)\n",
    "\n",
    "torch.backends.cudnn.deterministic = True\n",
    "torch.backends.cudnn.benchmark = False\n",
    "\n",
    "model_results_dict = {}\n",
    "    \n",
    "for gnn_model in [GCN, GraphSAGE, GAT, AGNN]:\n",
    "    train_scores = []\n",
    "    test_scores = []\n",
    "    model_name = gnn_model.__name__\n",
    "    print(model_name)\n",
    "\n",
    "    for idx, fold in enumerate(folds):\n",
    "        # model = GCN(num_features=data.num_features, num_classes=data.num_classes, dropout_p=0.25).to(device)\n",
    "        # model = GCN(data.num_features, data.num_classes, num_layers=2)\n",
    "        # model = GAT(data.num_features, hidden_channels=16, num_layers=2)\n",
    "        model = gnn_model(**gnn_params).to(device)\n",
    "\n",
    "        optimizer = torch.optim.Adam(model.parameters(), lr=0.01, weight_decay=5e-4)\n",
    "        # optimizer = torch.optim.AdamW(model.parameters(), lr=0.001, weight_decay=0.01)\n",
    "        model.train()\n",
    "\n",
    "        best_loss = float('inf')\n",
    "        model_path = os.path.join(gnn_models_dir, f'best_{gnn_model.__name__}_model_fold_{idx}.pt')\n",
    "\n",
    "        print(f'Fold {idx}')\n",
    "        train_mask, test_mask = fold\n",
    "\n",
    "        class_weight = torch.Tensor(compute_class_weight(class_weight='balanced', classes=np.unique(data.y[train_mask].cpu()), y=data.y[train_mask].cpu().numpy())).to(device)\n",
    "\n",
    "        for epoch in range(n_epochs):  # Number of epochs\n",
    "            optimizer.zero_grad()\n",
    "            \n",
    "            data.edge_index = data.edge_index.to(device)\n",
    "            data.edge_weight = data.edge_weight.to(device)\n",
    "            \n",
    "            out = model(data.x, data.edge_index, edge_weight=data.edge_weight)\n",
    "            loss = criterion(out[train_mask], data.y[train_mask], weight=class_weight)\n",
    "            loss.backward()\n",
    "            optimizer.step()\n",
    "            # if (epoch+1) % 50 == 0:\n",
    "            #     print(f'Epoch {epoch+1}, Loss: {loss.item()}')\n",
    "\n",
    "            if loss.item() < best_loss:\n",
    "                best_loss = loss.item()\n",
    "                # Save the model if current loss is lower than the best known loss\n",
    "                torch.save(model, model_path)\n",
    "                # print(f\"Epoch {epoch+1}: New best loss {best_loss:.4f}, model saved.\")\n",
    "\n",
    "        model = torch.load(model_path)\n",
    "        out = model(data.x, data.edge_index, edge_weight=data.edge_weight)\n",
    "        train_probas, y_train = out[train_mask][:, 1].detach().cpu().numpy(), data.y[train_mask].detach().cpu().numpy()    \n",
    "        test_probas, y_test = out[test_mask][:, 1].detach().cpu().numpy(), data.y[test_mask].detach().cpu().numpy()\n",
    "\n",
    "        train_preds = out[train_mask].max(1)[1].cpu()\n",
    "        test_preds = out[test_mask].max(1)[1].cpu()\n",
    "\n",
    "        train_scores.append([scorer(y_train, train_preds) for scorer in scorers[:-1]] + [scorers[-1](y_train, train_probas)])\n",
    "        test_scores.append([scorer(y_test, test_preds) for scorer in scorers[:-1]] + [scorers[-1](y_test, test_probas)])\n",
    "    \n",
    "    model_results_dict[model_name] = {'train': train_scores, 'test': test_scores}"
   ]
  },
  {
   "cell_type": "markdown",
   "id": "e7d24d83-de10-47c7-8ed3-f68092c06847",
   "metadata": {},
   "source": [
    "## Evaluate"
   ]
  },
  {
   "cell_type": "code",
   "execution_count": null,
   "id": "d5612b5c-ea44-4fec-bde5-8b707e88a82e",
   "metadata": {},
   "outputs": [],
   "source": [
    "for model_name, results in model_results_dict.items():\n",
    "    \n",
    "    print(f'-------- {model_name} --------')\n",
    "    \n",
    "    print(f'---- train ----')\n",
    "    train_scores, test_scores = results['train'], results['test']\n",
    "    \n",
    "    train_scores_df = pd.DataFrame(np.array(train_scores), columns=scorer_names)\n",
    "    display(train_scores_df)\n",
    "\n",
    "    train_scores_agg_df = train_scores_df.agg(['mean', 'std'])\n",
    "    display(train_scores_agg_df)\n",
    "        \n",
    "    overleaf = f'& {model_name}'\n",
    "    for mean, std in train_scores_agg_df.T.values:\n",
    "        overleaf += (f' & ${mean:.3f} \\pm {std:.3f}$')\n",
    "    print(overleaf + '\\\\\\\\')\n",
    "\n",
    "    print(f'---- test ----')\n",
    "    test_scores_df = pd.DataFrame(np.array(test_scores), columns=scorer_names)\n",
    "    display(test_scores_df)\n",
    "\n",
    "    test_scores_agg_df = test_scores_df.agg(['mean', 'std'])\n",
    "    display(test_scores_agg_df)\n",
    "\n",
    "    overleaf = f'& {model_name}'\n",
    "    for mean, std in test_scores_agg_df.T.values:\n",
    "        overleaf += (f' & ${mean:.3f} \\pm {std:.3f}$')\n",
    "    print(overleaf + '\\\\\\\\')\n",
    "    print('\\n\\n')"
   ]
  },
  {
   "cell_type": "code",
   "execution_count": null,
   "id": "89c3f4cc-2417-4dad-845e-874059bf1ac7",
   "metadata": {},
   "outputs": [],
   "source": [
    "# Lists to store aggregated DataFrames\n",
    "all_train_agg_dfs = []\n",
    "all_test_agg_dfs = []\n",
    "\n",
    "for model_name, results in model_results_dict.items():\n",
    "    \n",
    "    train_scores, test_scores = results['train'], results['test']\n",
    "    \n",
    "    train_scores_df = pd.DataFrame(np.array(train_scores), columns=scorer_names)\n",
    "    train_scores_agg_df = train_scores_df.agg(['mean', 'std']).T\n",
    "    train_scores_agg_df['Method'] = model_name\n",
    "    all_train_agg_dfs.append(train_scores_agg_df)\n",
    "    \n",
    "    test_scores_df = pd.DataFrame(np.array(test_scores), columns=scorer_names)\n",
    "    test_scores_agg_df = test_scores_df.agg(['mean', 'std']).T\n",
    "    test_scores_agg_df['Method'] = model_name\n",
    "    all_test_agg_dfs.append(test_scores_agg_df)\n",
    "\n",
    "# Concatenate all aggregated train DataFrames\n",
    "merged_train_agg_df = pd.concat(all_train_agg_dfs).reset_index().set_index(['Method', 'index'])\n",
    "# merged_train_agg_df.columns.names = ['Aggregation']\n",
    "merged_train_agg_df = merged_train_agg_df.rename_axis(['Method', 'Metric'])\n",
    "\n",
    "# Concatenate all aggregated test DataFrames\n",
    "merged_test_agg_df = pd.concat(all_test_agg_dfs).reset_index().set_index(['Method', 'index'])\n",
    "# merged_test_agg_df.columns.names = ['Aggregation']\n",
    "merged_test_agg_df = merged_test_agg_df.rename_axis(['Method', 'Metric'])\n",
    "\n",
    "# Display the merged DataFrames\n",
    "print(\"Merged Aggregated Train DataFrame\")\n",
    "merged_train_agg_df.to_csv(os.path.join(gnn_results_dir, 'train_result_gnn.csv'))\n",
    "display(merged_train_agg_df)\n",
    "\n",
    "print(\"Merged Aggregated Test DataFrame\")\n",
    "merged_test_agg_df.to_csv(os.path.join(gnn_results_dir, 'test_result_gnn.csv'))\n",
    "display(merged_test_agg_df)"
   ]
  },
  {
   "cell_type": "raw",
   "id": "215e685c-f47d-4646-81dd-0da81d13576c",
   "metadata": {},
   "source": [
    "merged_test_agg_df.T.loc['mean'] #xs('f1', axis=0)"
   ]
  },
  {
   "cell_type": "raw",
   "id": "f1537a2d-d661-4c4f-90f0-2a589abdfc6e",
   "metadata": {},
   "source": [
    "merged_test_agg_df.get['f1'] #.idxmax(axis=0)"
   ]
  },
  {
   "cell_type": "code",
   "execution_count": 158,
   "id": "0fcf4519-0d97-4c9d-be65-9a2dfb7adeef",
   "metadata": {},
   "outputs": [
    {
     "data": {
      "text/plain": [
       "532"
      ]
     },
     "execution_count": 158,
     "metadata": {},
     "output_type": "execute_result"
    }
   ],
   "source": [
    "len(labeled_nodes)"
   ]
  },
  {
   "cell_type": "markdown",
   "id": "7b6bae4b-720b-43f6-847d-cf2cc9978c85",
   "metadata": {},
   "source": [
    "# Load Model"
   ]
  },
  {
   "cell_type": "code",
   "execution_count": 159,
   "id": "f34bb9c1-1a73-479c-a526-ca7868843aa3",
   "metadata": {},
   "outputs": [],
   "source": [
    "model_path = os.path.join(gnn_models_dir, \"best_AGNN_model_fold_0.pt\")"
   ]
  },
  {
   "cell_type": "code",
   "execution_count": 160,
   "id": "98e2e797-daff-4b94-8144-05ff73c1a506",
   "metadata": {},
   "outputs": [],
   "source": [
    "model = torch.load(model_path)\n",
    "out = model(data.x, data.edge_index, edge_weight=data.edge_weight)\n",
    "probas, y = out[:, 1].detach().cpu().numpy(), data.y.detach().cpu().numpy()    \n",
    "preds = out.max(1)[1].cpu()"
   ]
  },
  {
   "cell_type": "code",
   "execution_count": 161,
   "id": "41fc04ff-7c98-41e0-aa26-7bcc454e44d6",
   "metadata": {},
   "outputs": [
    {
     "data": {
      "text/plain": [
       "tensor(1, device='cuda:0')"
      ]
     },
     "execution_count": 161,
     "metadata": {},
     "output_type": "execute_result"
    }
   ],
   "source": [
    "data.y[4]"
   ]
  },
  {
   "cell_type": "code",
   "execution_count": 162,
   "id": "39058294-b22d-484c-81e0-bdf9e972a41e",
   "metadata": {
    "scrolled": true
   },
   "outputs": [
    {
     "data": {
      "text/plain": [
       "array([   4,   10,   17,   18,   32,   39,   40,   45,   53,   60,   61,\n",
       "         62,   81,   84,   95,  111,  114,  128,  172,  199,  201,  207,\n",
       "        208,  210,  215,  229,  235,  242,  246,  250,  251,  259,  265,\n",
       "        273,  274,  275,  277,  278,  292,  296,  317,  318,  320,  322,\n",
       "        330,  336,  343,  351,  357,  358,  368,  372,  404,  410,  437,\n",
       "        438,  439,  451,  468,  482,  492,  495,  500,  512,  514,  524,\n",
       "        534,  537,  566,  571,  573,  579,  581,  587,  597,  602,  625,\n",
       "        631,  640,  643,  654,  667,  670,  673,  674,  678,  685,  699,\n",
       "        706,  712,  714,  719,  721,  728,  730,  733,  740,  744,  747,\n",
       "        749,  754,  758,  760,  763,  766,  767,  768,  777,  781,  784,\n",
       "        788,  792,  795,  802,  804,  813,  824,  829,  832,  847,  850,\n",
       "        853,  882,  890,  895,  898,  904,  910,  913,  915,  919,  922,\n",
       "        935,  938,  943,  946,  950,  957,  983,  993, 1003, 1005, 1008,\n",
       "       1009, 1015, 1021, 1035, 1036, 1050, 1065, 1066, 1095, 1100, 1106,\n",
       "       1108, 1111, 1114, 1128, 1130, 1136, 1142, 1157, 1159, 1177, 1199,\n",
       "       1203, 1213, 1214, 1219, 1233, 1236, 1253, 1263, 1268, 1276, 1282,\n",
       "       1286, 1302, 1303, 1311, 1313, 1314, 1316, 1319, 1321, 1322, 1332,\n",
       "       1340, 1349, 1352, 1356, 1358, 1364, 1388, 1390, 1394, 1399, 1403,\n",
       "       1411, 1417, 1421, 1423, 1444, 1462, 1469, 1480, 1511, 1519, 1531,\n",
       "       1534, 1535, 1553, 1556, 1565, 1578, 1581, 1588, 1596, 1612, 1615,\n",
       "       1624, 1625, 1626, 1635, 1644, 1650, 1655, 1664, 1667, 1683, 1693,\n",
       "       1695, 1696, 1700, 1702, 1711, 1713, 1731, 1732, 1741, 1742, 1758,\n",
       "       1768, 1771, 1785, 1810, 1819, 1835, 1851, 1852, 1865, 1871, 1874,\n",
       "       1877, 1878, 1881, 1883, 1892, 1899, 1901, 1911, 1922, 1936, 1940,\n",
       "       1949, 1955, 1960, 1973, 1987, 1991, 2005, 2009, 2010, 2014, 2021,\n",
       "       2022, 2025, 2031, 2032, 2036, 2052, 2061, 2067, 2068, 2071, 2073,\n",
       "       2075, 2077, 2088, 2091, 2097, 2111, 2120, 2132, 2139, 2152, 2166,\n",
       "       2168, 2179, 2182, 2186, 2187, 2194, 2201, 2204, 2209, 2217, 2227,\n",
       "       2234, 2236, 2247, 2250, 2260, 2262, 2268, 2274, 2275, 2277, 2286,\n",
       "       2333, 2334, 2345, 2346, 2356, 2360, 2369, 2381, 2393, 2405, 2407,\n",
       "       2409, 2420, 2436, 2440, 2458, 2464, 2472, 2473, 2477, 2479, 2480,\n",
       "       2484, 2496, 2497, 2499, 2500, 2502, 2504, 2516, 2517, 2523, 2525,\n",
       "       2535, 2536, 2539, 2556, 2583, 2628, 2630, 2636, 2639, 2645, 2650,\n",
       "       2654, 2658, 2661, 2674, 2677, 2683, 2690, 2699, 2704, 2706, 2709,\n",
       "       2711, 2715, 2719, 2721, 2727, 2730, 2737, 2756, 2801, 2818, 2822,\n",
       "       2833, 2850, 2854, 2865, 2873, 2874, 2875, 2878, 2883, 2884, 2890,\n",
       "       2892, 2897, 2898, 2912, 2919, 2921, 2934, 2941, 2945, 2963, 2968,\n",
       "       2969, 2977, 2981, 2983, 2986, 2989, 3008, 3018, 3019, 3020, 3034,\n",
       "       3058, 3064, 3075, 3081, 3088, 3089, 3100, 3101, 3113, 3114, 3124,\n",
       "       3133, 3134, 3137, 3140, 3141, 3143, 3151, 3160, 3164, 3165, 3172,\n",
       "       3188, 3204, 3206, 3208, 3216, 3220, 3221, 3226, 3227, 3230, 3235,\n",
       "       3244, 3248, 3252, 3258, 3262, 3266, 3270, 3275, 3291, 3292, 3298,\n",
       "       3315, 3318, 3322, 3330, 3338, 3340, 3343, 3368, 3373, 3406, 3408,\n",
       "       3412, 3423, 3432, 3447, 3452, 3454, 3456, 3457, 3467, 3471, 3482,\n",
       "       3485, 3490, 3496, 3501, 3506, 3508, 3509, 3525, 3555, 3558, 3567,\n",
       "       3572, 3576, 3583, 3584, 3587, 3598, 3605, 3606, 3608, 3619, 3621,\n",
       "       3622, 3624, 3627, 3630, 3633, 3635, 3641, 3642, 3649, 3650, 3651,\n",
       "       3655, 3662, 3666, 3668, 3678, 3683, 3695, 3696, 3697, 3709, 3712,\n",
       "       3717, 3728, 3740, 3745])"
      ]
     },
     "execution_count": 162,
     "metadata": {},
     "output_type": "execute_result"
    }
   ],
   "source": [
    "labeled_indices = (data.y!=-1).nonzero().flatten().detach().cpu().numpy()\n",
    "labeled_indices"
   ]
  },
  {
   "cell_type": "code",
   "execution_count": 163,
   "id": "89e803ae-85d7-4211-8827-43edb4aef6d8",
   "metadata": {},
   "outputs": [],
   "source": [
    "preds_arr = preds[labeled_indices].detach().cpu().numpy()"
   ]
  },
  {
   "cell_type": "code",
   "execution_count": 164,
   "id": "bc88b792-6553-4508-813f-89e1ef9daac7",
   "metadata": {},
   "outputs": [],
   "source": [
    "labeled_nodes = g.vs[labeled_indices]"
   ]
  },
  {
   "cell_type": "code",
   "execution_count": 165,
   "id": "19c50c15-d361-4b72-8505-85b37c22afb7",
   "metadata": {},
   "outputs": [
    {
     "data": {
      "text/plain": [
       "532"
      ]
     },
     "execution_count": 165,
     "metadata": {},
     "output_type": "execute_result"
    }
   ],
   "source": [
    "labels_arr = labeled_nodes['label']\n",
    "len(labels_arr)"
   ]
  },
  {
   "cell_type": "raw",
   "id": "6b4ad110-9d67-499f-a94d-09f22db39720",
   "metadata": {},
   "source": [
    "test_vs = g.vs.select(lambda v: test_mask[v.index])"
   ]
  },
  {
   "cell_type": "code",
   "execution_count": 166,
   "id": "8c5cac8c-8ffc-4ed6-ad75-6aa2c3e54340",
   "metadata": {},
   "outputs": [],
   "source": [
    "false_preds = np.where(preds_arr!=labels_arr)[0]\n",
    "# false_preds = test_vs[false_preds]"
   ]
  },
  {
   "cell_type": "code",
   "execution_count": 167,
   "id": "47cff11f-90fc-44e7-9adc-73d874094899",
   "metadata": {},
   "outputs": [
    {
     "data": {
      "text/plain": [
       "66"
      ]
     },
     "execution_count": 167,
     "metadata": {},
     "output_type": "execute_result"
    }
   ],
   "source": [
    "len(false_preds)"
   ]
  },
  {
   "cell_type": "code",
   "execution_count": 168,
   "id": "b3cdd594-83f7-4ccc-86d4-17b0b98a2b77",
   "metadata": {
    "scrolled": true
   },
   "outputs": [],
   "source": [
    "hate_nodes = labeled_nodes[false_preds].select(label_eq=1)"
   ]
  },
  {
   "cell_type": "raw",
   "id": "5cd1f367-510c-4914-bd4e-58f6b23d97e9",
   "metadata": {},
   "source": [
    "test_vs.select(lambda v: false_preds[v.index])"
   ]
  },
  {
   "cell_type": "code",
   "execution_count": 169,
   "id": "b86bdd48-5a15-4989-bfe9-d940b77ae8ec",
   "metadata": {},
   "outputs": [
    {
     "data": {
      "text/plain": [
       "'2486965772'"
      ]
     },
     "execution_count": 169,
     "metadata": {},
     "output_type": "execute_result"
    }
   ],
   "source": [
    "hate_nodes['name'][0]"
   ]
  },
  {
   "cell_type": "code",
   "execution_count": 170,
   "id": "a2dca479-e5e5-4982-9dd0-494ef11ac731",
   "metadata": {},
   "outputs": [
    {
     "data": {
      "text/plain": [
       "29"
      ]
     },
     "execution_count": 170,
     "metadata": {},
     "output_type": "execute_result"
    }
   ],
   "source": [
    "len(hate_nodes[0].neighbors())"
   ]
  },
  {
   "cell_type": "code",
   "execution_count": 171,
   "id": "538bcd5f-7e30-4b89-be21-8d04844665b0",
   "metadata": {},
   "outputs": [
    {
     "data": {
      "text/plain": [
       "29"
      ]
     },
     "execution_count": 171,
     "metadata": {},
     "output_type": "execute_result"
    }
   ],
   "source": [
    "len(hate_nodes[0].neighbors(mode='in'))"
   ]
  },
  {
   "cell_type": "code",
   "execution_count": 172,
   "id": "6b7283a0-9b45-4105-893d-79246a1ecdac",
   "metadata": {},
   "outputs": [
    {
     "data": {
      "text/plain": [
       "29"
      ]
     },
     "execution_count": 172,
     "metadata": {},
     "output_type": "execute_result"
    }
   ],
   "source": [
    "len(hate_nodes[0].neighbors(mode='out'))"
   ]
  }
 ],
 "metadata": {
  "kernelspec": {
   "display_name": "gnn",
   "language": "python",
   "name": "gnn"
  },
  "language_info": {
   "codemirror_mode": {
    "name": "ipython",
    "version": 3
   },
   "file_extension": ".py",
   "mimetype": "text/x-python",
   "name": "python",
   "nbconvert_exporter": "python",
   "pygments_lexer": "ipython3",
   "version": "3.8.16"
  }
 },
 "nbformat": 4,
 "nbformat_minor": 5
}
